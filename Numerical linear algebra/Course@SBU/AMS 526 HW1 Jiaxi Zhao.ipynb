{
 "cells": [
  {
   "cell_type": "markdown",
   "metadata": {},
   "source": [
    "# AMS 526 Homework 1 \n",
    "**submitted by Jiaxi Zhao on 16th Sep, 2020**"
   ]
  },
  {
   "cell_type": "code",
   "execution_count": null,
   "metadata": {},
   "outputs": [],
   "source": []
  },
  {
   "cell_type": "markdown",
   "metadata": {},
   "source": [
    "In this notebook we run some experiments to compare two functions that calculate a matrix-vector product $z = ABx$. They differ by the order they perform the multiplication:\n",
    "- $ABx = (AB)x$\n",
    "- $ABx = A(Bx)$\n",
    "\n",
    "\n",
    "Since the matrix-vector product is associative, both of them obtain the correct result. We compare their efficiency by measuring their running time on problems of different sizes."
   ]
  },
  {
   "cell_type": "markdown",
   "metadata": {},
   "source": [
    "## Implementation and test"
   ]
  },
  {
   "cell_type": "code",
   "execution_count": 1,
   "metadata": {
    "ExecuteTime": {
     "end_time": "2020-09-17T05:37:20.227966Z",
     "start_time": "2020-09-17T05:37:19.942650Z"
    }
   },
   "outputs": [],
   "source": [
    "import numpy as np\n",
    "from matplotlib import pyplot as plt \n",
    "import time"
   ]
  },
  {
   "cell_type": "markdown",
   "metadata": {},
   "source": [
    "Generate the data: $A, B \\in \\mathbb{R}^{n \\times n}, x \\in \\mathbb{R}^{n}$ with auxilliary variable $C = AB, y = Bx, z = ABx$."
   ]
  },
  {
   "cell_type": "code",
   "execution_count": 2,
   "metadata": {
    "ExecuteTime": {
     "end_time": "2020-09-17T05:37:26.531184Z",
     "start_time": "2020-09-17T05:37:26.527910Z"
    }
   },
   "outputs": [],
   "source": [
    "n   = 100\n",
    "A   = np.random.rand(n, n)\n",
    "B   = np.random.rand(n, n)\n",
    "x   = np.random.rand(n, 1)"
   ]
  },
  {
   "cell_type": "markdown",
   "metadata": {},
   "source": [
    "1. First method: calculate $ABx = (AB)x$"
   ]
  },
  {
   "cell_type": "code",
   "execution_count": 80,
   "metadata": {},
   "outputs": [],
   "source": [
    "def Multi1(A, B, x, n):\n",
    "    \"Multiplicative function which multiplies the matrices first\"\n",
    "    C   = np.zeros([n, n])\n",
    "    z   = np.zeros([n, 1])\n",
    "    for i in range(n):\n",
    "        for k in range(n):\n",
    "            for j in range(n):\n",
    "                C[i, j] = C[i, j] + A[i, k] * B[k, j]\n",
    "            \n",
    "    for i in range(n):\n",
    "        for j in range(n):\n",
    "            z[i]        = z[i] + C[i, j] * x[j]\n",
    "    return z\n"
   ]
  },
  {
   "cell_type": "markdown",
   "metadata": {},
   "source": [
    "2. Second method: calculate $ABx = A(Bx)$"
   ]
  },
  {
   "cell_type": "code",
   "execution_count": 81,
   "metadata": {},
   "outputs": [],
   "source": [
    "def Multi2(A, B, x, n):\n",
    "    \"Multiplicative function which multiplies the matrix and vector first\"\n",
    "    y   = np.zeros([n, 1])\n",
    "    z   = np.zeros([n, 1])\n",
    "    for i in range(n):\n",
    "        for j in range(n):\n",
    "            y[i]    = y[i] + B[i, j] * x[j]\n",
    "\n",
    "    for i in range(n):\n",
    "        for j in range(n):\n",
    "            z[i]    = z[i] + A[i, j] * y[j]\n",
    "    return z"
   ]
  },
  {
   "cell_type": "markdown",
   "metadata": {},
   "source": [
    "A naive comparison of two algorithms"
   ]
  },
  {
   "cell_type": "code",
   "execution_count": 86,
   "metadata": {},
   "outputs": [
    {
     "name": "stdout",
     "output_type": "stream",
     "text": [
      "Running time of the function1:  0.6556198596954346\n",
      "Running time of the function2:  0.04465675354003906\n",
      "Difference between two algorithms:  [4.43378667e-11]\n"
     ]
    }
   ],
   "source": [
    "start1  = time.time()\n",
    "for i in range(1):\n",
    "    z1  = Multi1(A, B, x, n)        \n",
    "end1    = time.time()\n",
    "print(\"Running time of the function1: \", end1 - start1)\n",
    "\n",
    "start2  = time.time()\n",
    "for i in range(1):\n",
    "    z2  = Multi2(A, B, x, n)       \n",
    "end2    = time.time()\n",
    "print(\"Running time of the function2: \", end2 - start2)\n",
    "print(\"Difference between two algorithms: \", sum(abs(z1 - z2)))"
   ]
  },
  {
   "cell_type": "markdown",
   "metadata": {},
   "source": [
    "## Analysis of the numbers of floating-point operations\n",
    "\n",
    "In this part, we theoretically analysis the numbers of floating-point operations of these 2 algorithms. \n",
    "\n",
    "Before analyzing two specific algorithms, we first calculate this for a general matric multiplication. Suppose one calculates $C = AB, A \\in \\mathbb{R}^{m \\times n}, B \\in \\mathbb{R}^{n \\times p},C \\in  \\mathbb{R}^{m \\times p}$. Then, for each element of $C$, i.e.\n",
    "\\begin{equation}\n",
    "    C_{ij} = \\sum_{k = 1}^n A_{ik}B_{kj},\n",
    "\\end{equation}\n",
    "one has to perform $n$ multiplications and $n - 1$ additions. Hence the total numbers of this matrix multiplication is $mp(2n - 1)$. We can use this result to calculate the computational complexity of two algorithms.\n",
    "\n",
    "We consider the first algorithm which performs the multiplication between matrices firstly, i.e. $C = AB$. It requires $n^2(2n - 1)$ FLOPs to perform this calculation. Then it calculate $z = Cx$ which requires $n(2n - 1)$ FLOPs. The total number of FLOP is thus $n(n + 1)(2n - 1) = \\Theta(n^3)$.\n",
    "\n",
    "For the second algorithm, it contains two same size matrix-vector calculations, i.e. $y = Bx, z = Ay$. Therefore, the total number of FLOP is thus $2n(2n - 1) = \\Theta(n^2)$.\n",
    "\n",
    "***Conclusion:*** It can be summarized that the second algorithm outperforms the first one especially in the large-size problem, i.e. $n \\gg 1$ since it has lowew-order complexity,"
   ]
  },
  {
   "cell_type": "markdown",
   "metadata": {},
   "source": [
    "## Numerical experiments\n",
    "We compare the performance of two algorithms on problems of difference sizes. The running time is obtained under several repeated experiments and taking the average. "
   ]
  },
  {
   "cell_type": "code",
   "execution_count": 103,
   "metadata": {},
   "outputs": [],
   "source": [
    "n_arr   = [50, 100, 200, 400, 800]\n",
    "t_arr   = np.zeros([5, 2])\n",
    "\n",
    "for i in range(5):\n",
    "    n   = n_arr[i];\n",
    "    it1 = int(800 / n)\n",
    "    it2 = int(8000 / n)\n",
    "    A   = np.random.rand(n, n)\n",
    "    B   = np.random.rand(n, n)\n",
    "    x   = np.random.rand(n, 1)\n",
    "    \n",
    "    start1      = time.time()\n",
    "    for j in range(it1):\n",
    "        z       = Multi1(A, B, x, n)\n",
    "    end1        = time.time()\n",
    "    t_arr[i, 0] = - (start1 - end1) / it1\n",
    "    start2      = time.time()\n",
    "    for j in range(it2):\n",
    "        z       = Multi2(A, B, x, n)\n",
    "    end2        = time.time()\n",
    "    t_arr[i, 1] = - (start2 - end2) / it2"
   ]
  },
  {
   "cell_type": "markdown",
   "metadata": {},
   "source": [
    "We first directly plot the running times of two algorithms under different problem sizes. Notice that when problem size is large, the running time for second algorithm is significantly smaller than that of the first algorithm, so we also plot the log-figure of running times."
   ]
  },
  {
   "cell_type": "code",
   "execution_count": 116,
   "metadata": {
    "cell_style": "split"
   },
   "outputs": [
    {
     "data": {
      "image/png": "[encoded data removed]",
      "text/plain": [
       "<Figure size 432x288 with 1 Axes>"
      ]
     },
     "metadata": {
      "needs_background": "light"
     },
     "output_type": "display_data"
    }
   ],
   "source": [
    "plt.title(\"Running time v.s. Problem size\") \n",
    "plt.xlabel(\"Problem size n\") \n",
    "plt.ylabel(\"Running time t(s)\") \n",
    "plt.plot(n_arr, t_arr[:,0], label = \"Algorithm 1\")\n",
    "plt.plot(n_arr, t_arr[:,1], label = \"Algorithm 2\") \n",
    "plt.legend(bbox_to_anchor = (1.05, 1), loc = 'upper left', borderaxespad = 0.)\n",
    "plt.show()"
   ]
  },
  {
   "cell_type": "code",
   "execution_count": 120,
   "metadata": {
    "cell_style": "split",
    "scrolled": true
   },
   "outputs": [
    {
     "data": {
      "image/png": "[encoded data removed]",
      "text/plain": [
       "<Figure size 432x288 with 1 Axes>"
      ]
     },
     "metadata": {
      "needs_background": "light"
     },
     "output_type": "display_data"
    }
   ],
   "source": [
    "plt.title(\"Log-running time v.s. Problem size\") \n",
    "plt.xlabel(\"Problem size n\") \n",
    "plt.ylabel(\"Log-running time t(s)\") \n",
    "plt.plot(n_arr, np.log(t_arr[:,0]), label = \"Algorithm 1\") \n",
    "plt.plot(n_arr, np.log(t_arr[:,1]), label = \"Algorithm 2\") \n",
    "plt.legend(bbox_to_anchor = (1.05, 1), loc = 'upper left', borderaxespad = 0.)\n",
    "plt.show()"
   ]
  },
  {
   "cell_type": "markdown",
   "metadata": {},
   "source": [
    "To further explore the connection between numerical experiments and theoretic analysis in previous part, we plot the ratio between the empirical running times and theoretic running times under different problem sizes."
   ]
  },
  {
   "cell_type": "code",
   "execution_count": 121,
   "metadata": {},
   "outputs": [
    {
     "data": {
      "image/png": "[encoded data removed]",
      "text/plain": [
       "<Figure size 432x288 with 1 Axes>"
      ]
     },
     "metadata": {
      "needs_background": "light"
     },
     "output_type": "display_data"
    }
   ],
   "source": [
    "theo    = np.zeros([5, 2])\n",
    "for i in range(5):\n",
    "    theo[i, 0]    = n_arr[i] ** 3\n",
    "    theo[i, 1]    = n_arr[i] ** 2\n",
    "    \n",
    "plt.title(\"empirical-theoretic ratio v.s. Problem size\") \n",
    "plt.xlabel(\"Problem size n\") \n",
    "plt.ylabel(\"empirical-theoretic ratio\") \n",
    "plt.plot(n_arr, t_arr[:, 0] / theo[:, 0], label = \"Algorithm 1\")\n",
    "plt.plot(n_arr, t_arr[:, 1] / theo[:, 1], label = \"Algorithm 2\") \n",
    "plt.legend(bbox_to_anchor = (1.05, 1), loc = 'upper left', borderaxespad = 0.)\n",
    "plt.show()"
   ]
  },
  {
   "cell_type": "markdown",
   "metadata": {},
   "source": [
    "\\begin{remark}\n",
    "    It can be conclude from the above figure that the ratio remains nearly constant under different problem sizes. This is a solid evidence that supports our theoretic analysis on number of FLOP. However, one interesting question here is that: the ratio of two algorithms are different from the figure. Further efforts can be made to explain this phenomenon.\n",
    "\\end{remark}"
   ]
  },
  {
   "cell_type": "markdown",
   "metadata": {},
   "source": [
    "One can also compare the empirical ratio $\\frac{t_1}{t_2}$ of the running times of two algorithms with the theortic ratio $\\frac{n(n + 1)(2n - 1)}{2n(2n - 1)} = \\frac{n + 1}{2}$ we calculate in the last section."
   ]
  },
  {
   "cell_type": "code",
   "execution_count": 115,
   "metadata": {},
   "outputs": [
    {
     "data": {
      "image/png": "[encoded data removed]",
      "text/plain": [
       "<Figure size 432x288 with 1 Axes>"
      ]
     },
     "metadata": {
      "needs_background": "light"
     },
     "output_type": "display_data"
    }
   ],
   "source": [
    "y   = np.zeros([5])\n",
    "for i in range(5):\n",
    "    y[i]    = (n_arr[i] + 1)/2\n",
    "plt.title(\"Acceleration rate v.s. Problem size\") \n",
    "plt.xlabel(\"Problem size n\") \n",
    "plt.ylabel(\"Acceleration rate\") \n",
    "p1  = plt.plot(n_arr, t_arr[:, 0]/t_arr[:, 1], label = \"empirical ratio\") \n",
    "p2  = plt.plot(n_arr, y, label = \"theoretic ratio\")\n",
    "plt.legend(bbox_to_anchor = (1.05, 1), loc = 'upper left', borderaxespad = 0.)\n",
    "plt.show()"
   ]
  },
  {
   "cell_type": "markdown",
   "metadata": {},
   "source": [
    "\\begin{remark}\n",
    "In general, the empirical and theoretic ratio does not coincide, which is another facet of the weird phenomenon we come across in the previous figure. This may caused by some hidden constant on the FLOP.\n",
    "\\end{remark}\n",
    "\n",
    "## Conclusion\n",
    "We conduct numerical experiments on two algorithms concerned with matrix-vector product. The numerical results are compared with the theoretic analysis from different perspectives. Although they agree qualitatively on the performance of two algorithms, in a quantitative aspect, the empirical results do not fit well with the theoretic one."
   ]
  }
 ],
 "metadata": {
  "kernelspec": {
   "display_name": "Python 3",
   "language": "python",
   "name": "python3"
  },
  "language_info": {
   "codemirror_mode": {
    "name": "ipython",
    "version": 3
   },
   "file_extension": ".py",
   "mimetype": "text/x-python",
   "name": "python",
   "nbconvert_exporter": "python",
   "pygments_lexer": "ipython3",
   "version": "3.8.5"
  },
  "latex_envs": {
   "LaTeX_envs_menu_present": true,
   "autoclose": false,
   "autocomplete": true,
   "bibliofile": "biblio.bib",
   "cite_by": "apalike",
   "current_citInitial": 1,
   "eqLabelWithNumbers": true,
   "eqNumInitial": 1,
   "hotkeys": {
    "equation": "Ctrl-E",
    "itemize": "Ctrl-I"
   },
   "labels_anchors": false,
   "latex_user_defs": false,
   "report_style_numbering": false,
   "user_envs_cfg": false
  },
  "toc": {
   "base_numbering": 1,
   "nav_menu": {},
   "number_sections": true,
   "sideBar": true,
   "skip_h1_title": false,
   "title_cell": "Table of Contents",
   "title_sidebar": "Contents",
   "toc_cell": false,
   "toc_position": {
    "height": "calc(100% - 180px)",
    "left": "10px",
    "top": "150px",
    "width": "165px"
   },
   "toc_section_display": true,
   "toc_window_display": true
  },
  "varInspector": {
   "cols": {
    "lenName": 16,
    "lenType": 16,
    "lenVar": 40
   },
   "kernels_config": {
    "python": {
     "delete_cmd_postfix": "",
     "delete_cmd_prefix": "del ",
     "library": "var_list.py",
     "varRefreshCmd": "print(var_dic_list())"
    },
    "r": {
     "delete_cmd_postfix": ") ",
     "delete_cmd_prefix": "rm(",
     "library": "var_list.r",
     "varRefreshCmd": "cat(var_dic_list()) "
    }
   },
   "types_to_exclude": [
    "module",
    "function",
    "builtin_function_or_method",
    "instance",
    "_Feature"
   ],
   "window_display": false
  }
 },
 "nbformat": 4,
 "nbformat_minor": 4
}
