{
 "cells": [
  {
   "cell_type": "markdown",
   "metadata": {},
   "source": [
    "# AMS 526 Homework 6\n",
    "**submitted by Jiaxi Zhao on 2nd Dec, 2020**"
   ]
  },
  {
   "cell_type": "markdown",
   "metadata": {},
   "source": [
    "In this experiment, we implement the conjugate gradient (CG) method and the preconditioned conjugate gradient (PCG)\n",
    "method with the Jacobi preconditioner for solving SPD linear systems. We compare their performance in terms of rate of convergence and accuracy."
   ]
  },
  {
   "cell_type": "code",
   "execution_count": 173,
   "metadata": {
    "ExecuteTime": {
     "end_time": "2020-12-10T12:55:12.221612Z",
     "start_time": "2020-12-10T12:55:12.217363Z"
    }
   },
   "outputs": [],
   "source": [
    "import math\n",
    "import numpy as np\n",
    "import numpy.random as r\n",
    "import scipy.linalg as alg\n",
    "import scipy.sparse as spa\n",
    "from matplotlib import pyplot as plt \n",
    "from time import time\n",
    "from scipy.linalg import lu as lu\n",
    "from scipy.linalg import solve_triangular as st\n",
    "from scipy.linalg import solve as ss\n",
    "from scipy.sparse.linalg import spsolve as sps"
   ]
  },
  {
   "cell_type": "markdown",
   "metadata": {},
   "source": [
    "## Overview of the method to solve a linear system\n",
    "### Implementation of the CG method\n",
    "In this section, we briefly review the CG method.\n",
    "\n",
    "The CG method aims to solve the linear system $Ax = b$ with $A \\in \\mathbb{R}^{n \\times n}$ SPD. It solve this by viewing it as the first order condition of a quadratic programming, i.e.\n",
    "\\begin{equation}\n",
    "    \\min_x \\frac{1}{2} x^T A x - b^T x.\n",
    "\\end{equation}\n",
    "The iteration is given below\n",
    "\\begin{itemize}\n",
    "    \\item Set $x_0 = 0, r_0 = p_0 = b$.\n",
    "    \\item Repeated the following procedure until converges.\n",
    "    \\item $\\alpha_k = \\frac{r_{k - 1}^T r_{k - 1}}{p_{k - 1}^T A p_{k - 1}}$.\n",
    "    \\item $x_k = x_{k - 1} + \\alpha_k p_{k - 1}$.\n",
    "    \\item $r_k = r_{k - 1} - \\alpha_k A p_{k - 1}$.\n",
    "    \\item $\\beta_k = \\frac{r_{k}^T r_{k}}{r_{k - 1}^T r_{k - 1}}$.\n",
    "    \\item $p_k = r_{k} + \\beta_k p_{k - 1}$.\n",
    "\\end{itemize}\n",
    "Notice CG is intrinsically connected with Krylov subspace method. We also implement the CG method with Jacobi precondtioner, given by\n",
    "\\begin{itemize}\n",
    "    \\item Set $x_0 = 0, r_0 = b, M = diag(A), z_0 = p_0 = M^{-1}b$.\n",
    "    \\item Repeated the following procedure until converges.\n",
    "    \\item $\\alpha_k = \\frac{r_{k - 1}^T z_{k - 1}}{p_{k - 1}^T A p_{k - 1}}$.\n",
    "    \\item $x_k = x_{k - 1} + \\alpha_k p_{k - 1}$.\n",
    "    \\item $r_k = r_{k - 1} - \\alpha_k A p_{k - 1}$.\n",
    "    \\item $z_k = M^{-1} r_k$.\n",
    "    \\item $\\beta_k = \\frac{r_{k}^T z_{k}}{r_{k - 1}^T z_{k - 1}}$.\n",
    "    \\item $p_k = z_{k} + \\beta_k p_{k - 1}$.\n",
    "\\end{itemize}\n",
    "Notice that the pseudocode in the lecture is wrong."
   ]
  },
  {
   "cell_type": "code",
   "execution_count": 168,
   "metadata": {
    "ExecuteTime": {
     "end_time": "2020-12-10T12:54:32.808672Z",
     "start_time": "2020-12-10T12:54:32.797833Z"
    },
    "code_folding": []
   },
   "outputs": [],
   "source": [
    "tol = 1E-14\n",
    "def sgn(x):\n",
    "    # Modified sign function\n",
    "    if x == 0:\n",
    "        return 1\n",
    "    else:\n",
    "        return np.sign(x)\n",
    "\n",
    "def CG(A, b):\n",
    "    # CG method\n",
    "    n   = A.shape[0]\n",
    "    x   = np.zeros([n, 1])\n",
    "    r   = b.copy()\n",
    "    p   = b.copy()\n",
    "    for k in range(n):\n",
    "        alpha = (r.T @ r) / (p.T.dot(A.dot(p)))\n",
    "        x     = x + alpha * p\n",
    "        temp  = r.T @ r\n",
    "        r     = r - alpha * A.dot(p)\n",
    "        beta  = (r.T @ r) / temp\n",
    "        p     = r + beta * p\n",
    "        if alg.norm(p, 2) < tol:\n",
    "            break\n",
    "        \n",
    "    return x\n",
    "\n",
    "def PCG(A, b):\n",
    "    # CG method with Jacobi preconditioner\n",
    "    n   = A.shape[0]\n",
    "    x   = 0\n",
    "    r   = b.copy()\n",
    "    M   = 1 / A.diagonal().reshape(n, 1).copy()\n",
    "    p   = M * r\n",
    "    z   = p\n",
    "    for k in range(n):\n",
    "        alpha = (r.T @ z) / (p.T.dot(A.dot(p)))\n",
    "        x     = x + alpha * p\n",
    "        temp  = r.T @ z\n",
    "        r     = r - alpha * A.dot(p)\n",
    "        z     = M * r\n",
    "        beta  = (r.T @ z) / temp\n",
    "        p     = z + beta * p\n",
    "        if alg.norm(p, 2) < tol:\n",
    "            break\n",
    "        \n",
    "    return x"
   ]
  },
  {
   "cell_type": "code",
   "execution_count": 169,
   "metadata": {
    "ExecuteTime": {
     "end_time": "2020-12-10T12:54:33.182950Z",
     "start_time": "2020-12-10T12:54:33.175943Z"
    }
   },
   "outputs": [
    {
     "name": "stdout",
     "output_type": "stream",
     "text": [
      "[[-0.55353114]\n",
      " [-1.52798508]\n",
      " [ 1.55929146]\n",
      " [-0.74122267]\n",
      " [-0.41973035]]\n",
      "[[-0.55353114]\n",
      " [-1.52798508]\n",
      " [ 1.55929146]\n",
      " [-0.74122267]\n",
      " [-0.41973035]]\n",
      "[[-0.55353114]\n",
      " [-1.52798508]\n",
      " [ 1.55929146]\n",
      " [-0.74122267]\n",
      " [-0.41973035]]\n"
     ]
    }
   ],
   "source": [
    "A   = r.randn(5, 5)\n",
    "A   = A.T @ A\n",
    "#A   = np.eye(5)\n",
    "b   = r.randn(5, 1)\n",
    "print(CG(A, b))\n",
    "print(PCG(A, b))\n",
    "print(ss(A, b))"
   ]
  },
  {
   "cell_type": "markdown",
   "metadata": {},
   "source": [
    "## Numerical experiment on FDM for second order elliptic PDE\n",
    "In this section, we test our algorithm under the following linear system\n",
    "\\begin{equation}\n",
    "    (4 + h^2)x_{ij} - x_{i - 1, j} - x_{i + 1, j} - x_{i, j - 1} - x_{i, j + 1} = h^2, x \\in \\mathbb{R}^{n^2}.\n",
    "\\end{equation}\n",
    "This is exactly the FEM for solving the following second order linear elliptic PDE\n",
    "\\begin{equation*}\n",
    "    \\left\\{\\begin{aligned}\n",
    "        u - \\Delta u & = 1, \\quad x \\in \\Omega = (0, 1) \\times (0, 1),     \\\\\n",
    "        u & = 0, \\quad x \\in \\partial \\Omega.\n",
    "    \\end{aligned}\\right.\n",
    "\\end{equation*}\n",
    "We solve this linear system using CG and CG with Jacobi preconditioner. First, we construct the discretization of the differential operator as follows.\n",
    "\n",
    "Meanwhile, since the Laplacian matrix is sparse, in the following experiments, we will test the performance of both sparse and non-sparse version of out algorithms."
   ]
  },
  {
   "cell_type": "code",
   "execution_count": 175,
   "metadata": {
    "ExecuteTime": {
     "end_time": "2020-12-10T12:56:01.957288Z",
     "start_time": "2020-12-10T12:56:01.951710Z"
    }
   },
   "outputs": [],
   "source": [
    "def init(n, sparse = 'n'):\n",
    "    # initialize function for discrete Laplacian matrix A and vector b\n",
    "    h   = 1 / (1 + n)\n",
    "    A1  = np.eye(n) * 2\n",
    "    for i in range(1, n - 1):\n",
    "        A1[i, i - 1] = -1\n",
    "        A1[i, i + 1] = -1\n",
    "    A1[0, 1] = -1\n",
    "    A1[n - 1, n - 2] = -1\n",
    "    A  = np.kron(A1, np.eye(n)) + np.kron(np.eye(n), A1) + np.eye(n * n) * h * h\n",
    "    b  = np.ones([n * n, 1]) * h * h\n",
    "    if sparse == 's':\n",
    "        A   = spa.csc_matrix(A)\n",
    "    return A, b"
   ]
  },
  {
   "cell_type": "markdown",
   "metadata": {},
   "source": [
    "### Non-sparse version\n",
    "We first test the non-sparse version of our algorithms."
   ]
  },
  {
   "cell_type": "code",
   "execution_count": 177,
   "metadata": {
    "ExecuteTime": {
     "end_time": "2020-12-10T12:58:25.033983Z",
     "start_time": "2020-12-10T12:58:19.285064Z"
    }
   },
   "outputs": [
    {
     "name": "stdout",
     "output_type": "stream",
     "text": [
      "Time consumption for CG: 2.341099739074707\n",
      "Time consumption for PCG: 2.268588066101074\n",
      "Time consumption for alg.solve: 0.6868631839752197\n",
      "4.4255342880268665e-14\n",
      "3.769831526251942e-14\n"
     ]
    }
   ],
   "source": [
    "n    = 64\n",
    "A, b = init(n)\n",
    "start = time()\n",
    "x1   = CG(A, b)\n",
    "print('Time consumption for CG:', time() - start)\n",
    "start = time()\n",
    "x2   = PCG(A, b)\n",
    "print('Time consumption for PCG:', time() - start)\n",
    "start = time()\n",
    "x3   = ss(A, b)\n",
    "print('Time consumption for alg.solve:', time() - start)\n",
    "print(alg.norm(x1 - x3, 2))\n",
    "print(alg.norm(x2 - x3, 2))"
   ]
  },
  {
   "cell_type": "code",
   "execution_count": 178,
   "metadata": {
    "ExecuteTime": {
     "end_time": "2020-12-10T12:59:26.935022Z",
     "start_time": "2020-12-10T12:59:15.340079Z"
    }
   },
   "outputs": [
    {
     "name": "stdout",
     "output_type": "stream",
     "text": [
      "n =  8\n",
      "2.2180052528553994e-16\n",
      "3.513403938818726e-16\n",
      "n =  16\n",
      "1.8542796309083302e-15\n",
      "1.0935098435553744e-14\n",
      "n =  32\n",
      "3.708113413284106e-15\n",
      "8.483628052887828e-15\n",
      "n =  64\n",
      "4.4255342880268665e-14\n",
      "3.769831526251942e-14\n",
      "1.9563088817661571\n",
      "1.9590099513858459\n",
      "2.226194165493936\n"
     ]
    },
    {
     "data": {
      "image/png": "[encoded data removed]",
      "text/plain": [
       "<Figure size 432x288 with 1 Axes>"
      ]
     },
     "metadata": {
      "needs_background": "light"
     },
     "output_type": "display_data"
    }
   ],
   "source": [
    "time_record = np.zeros([4, 3])\n",
    "for i in range(3, 7):\n",
    "    n    = pow(2, i)\n",
    "    print(\"n = \", n)\n",
    "    A, b = init(n)\n",
    "    start = time()\n",
    "    for j in range(pow(2, int(pow(2, 6) / n))):\n",
    "        x1   = CG(A, b)\n",
    "    time_record[i - 3, 0] = (time() - start) / pow(2, pow(2, 6) / n)\n",
    "    start = time()\n",
    "    for j in range(pow(2, int(pow(2, 6) / n))):\n",
    "        x2   = PCG(A, b)\n",
    "    time_record[i - 3, 1] = (time() - start) / pow(2, pow(2, 6) / n)\n",
    "    start = time()\n",
    "    for j in range(pow(2, int(pow(2, 6) / n))):\n",
    "        x3   = ss(A, b)\n",
    "    time_record[i - 3, 2] = (time() - start) / pow(2, pow(2, 6) / n)\n",
    "    print(alg.norm(x1 - x3, 2))\n",
    "    print(alg.norm(x2 - x3, 2))\n",
    "    \n",
    "mylabel = ['CG', 'PCG', 'ss']\n",
    "for i in range(3):\n",
    "    plt.plot(pow(2, np.linspace(3, 6, 4)), time_record[:, i], label = mylabel[i])\n",
    "    x       = np.linspace(3, 6, 4) * 2\n",
    "    A       = np.vstack([x, np.ones(len(x))]).T\n",
    "    m1, c   = np.linalg.lstsq(A, np.log2(time_record[:, i]), rcond = -1)[0]\n",
    "    print(m1)\n",
    "plt.semilogx()\n",
    "plt.semilogy()\n",
    "plt.legend()\n",
    "plt.title('Time consumption for non-sparse version')\n",
    "plt.show()"
   ]
  },
  {
   "cell_type": "markdown",
   "metadata": {},
   "source": [
    "\\begin{remark}\n",
    "    The above figure illustrates the efficiency of CG and PCG we implemented. It can be seen that our implemented CG performs pretty well compare to the inline function in scipy. While PCG and CG do not have much difference, indicating that Jacobi preconditioner is usually not efficient although easy to implement. Meanwhile, we can see that the scale of the time consumption is quadratic instead of cubic on the size of the problem, indicating that CG stops after relatively small number of iterations comparing with $n$, this may be partially explained by the structure of Laplacian, with clustered eigenvalues.\n",
    "\\end{remark}"
   ]
  },
  {
   "cell_type": "markdown",
   "metadata": {},
   "source": [
    "### Sparse version\n",
    "We next test the sparse version of our algorithms."
   ]
  },
  {
   "cell_type": "code",
   "execution_count": 179,
   "metadata": {
    "ExecuteTime": {
     "end_time": "2020-12-10T13:01:37.231651Z",
     "start_time": "2020-12-10T13:00:50.955441Z"
    }
   },
   "outputs": [
    {
     "name": "stdout",
     "output_type": "stream",
     "text": [
      "Time consumption for CG: 0.031343698501586914\n",
      "Time consumption for PCG: 0.02451491355895996\n",
      "Time consumption for alg.solve: 0.012029170989990234\n",
      "81.67759381239473\n",
      "81.67759381239479\n"
     ]
    }
   ],
   "source": [
    "n    = 64\n",
    "A, b = init(n, 's')\n",
    "start = time()\n",
    "x1   = CG(A, b)\n",
    "print('Time consumption for CG:', time() - start)\n",
    "start = time()\n",
    "x2   = PCG(A, b)\n",
    "print('Time consumption for PCG:', time() - start)\n",
    "start = time()\n",
    "x3   = sps(A, b)\n",
    "print('Time consumption for alg.solve:', time() - start)\n",
    "print(alg.norm(x1 - x3, 2))\n",
    "print(alg.norm(x2 - x3, 2))"
   ]
  },
  {
   "cell_type": "code",
   "execution_count": 181,
   "metadata": {
    "ExecuteTime": {
     "end_time": "2020-12-10T13:02:38.553391Z",
     "start_time": "2020-12-10T13:01:51.312542Z"
    }
   },
   "outputs": [
    {
     "name": "stdout",
     "output_type": "stream",
     "text": [
      "n =  8\n",
      "1.014703176517914\n",
      "1.014703176517914\n",
      "n =  16\n",
      "4.66577763576505\n",
      "4.665777635765048\n",
      "n =  32\n",
      "19.84502781002836\n",
      "19.845027810028324\n",
      "n =  64\n",
      "81.67759381239473\n",
      "81.67759381239479\n",
      "0.8157739918450359\n",
      "0.7884472552945845\n",
      "1.1294000987271609\n"
     ]
    },
    {
     "data": {
      "image/png": "[encoded data removed]",
      "text/plain": [
       "<Figure size 432x288 with 1 Axes>"
      ]
     },
     "metadata": {
      "needs_background": "light"
     },
     "output_type": "display_data"
    }
   ],
   "source": [
    "time_record = np.zeros([4, 3])\n",
    "for i in range(3, 7):\n",
    "    n    = pow(2, i)\n",
    "    print(\"n = \", n)\n",
    "    A, b = init(n, 's')\n",
    "    start = time()\n",
    "    for j in range(pow(2, int(pow(2, 6) / n))):\n",
    "        x1   = CG(A, b)\n",
    "    time_record[i - 3, 0] = (time() - start) / pow(2, pow(2, 6) / n)\n",
    "    start = time()\n",
    "    for j in range(pow(2, int(pow(2, 6) / n))):\n",
    "        x2   = PCG(A, b)\n",
    "    time_record[i - 3, 1] = (time() - start) / pow(2, pow(2, 6) / n)\n",
    "    start = time()\n",
    "    for j in range(pow(2, int(pow(2, 6) / n))):\n",
    "        x3   = sps(A, b)\n",
    "    time_record[i - 3, 2] = (time() - start) / pow(2, pow(2, 6) / n)\n",
    "    print(alg.norm(x1 - x3, 2))\n",
    "    print(alg.norm(x2 - x3, 2))\n",
    "    \n",
    "mylabel = ['CG', 'PCG', 'ss']\n",
    "for i in range(3):\n",
    "    plt.plot(pow(2, np.linspace(3, 6, 4)), time_record[:, i], label = mylabel[i])\n",
    "    x       = np.linspace(3, 6, 4) * 2\n",
    "    A       = np.vstack([x, np.ones(len(x))]).T\n",
    "    m1, c   = np.linalg.lstsq(A, np.log2(time_record[:, i]), rcond = -1)[0]\n",
    "    print(m1)\n",
    "plt.semilogx()\n",
    "plt.semilogy()\n",
    "plt.legend()\n",
    "plt.title('Time consumption for sparse version')\n",
    "plt.show()"
   ]
  },
  {
   "cell_type": "markdown",
   "metadata": {},
   "source": [
    "\\begin{remark}\n",
    "    Although the sparse of our implementations are close to inline implementatioin, it is weird that the result is not so accurate.\n",
    "\\end{remark}"
   ]
  },
  {
   "cell_type": "code",
   "execution_count": null,
   "metadata": {},
   "outputs": [],
   "source": []
  }
 ],
 "metadata": {
  "kernelspec": {
   "display_name": "Python 3",
   "language": "python",
   "name": "python3"
  },
  "language_info": {
   "codemirror_mode": {
    "name": "ipython",
    "version": 3
   },
   "file_extension": ".py",
   "mimetype": "text/x-python",
   "name": "python",
   "nbconvert_exporter": "python",
   "pygments_lexer": "ipython3",
   "version": "3.6.10"
  },
  "latex_envs": {
   "LaTeX_envs_menu_present": true,
   "autoclose": false,
   "autocomplete": true,
   "bibliofile": "biblio.bib",
   "cite_by": "apalike",
   "current_citInitial": 1,
   "eqLabelWithNumbers": true,
   "eqNumInitial": 1,
   "hotkeys": {
    "equation": "Ctrl-E",
    "itemize": "Ctrl-I"
   },
   "labels_anchors": false,
   "latex_user_defs": false,
   "report_style_numbering": false,
   "user_envs_cfg": false
  },
  "toc": {
   "base_numbering": 1,
   "nav_menu": {},
   "number_sections": true,
   "sideBar": true,
   "skip_h1_title": false,
   "title_cell": "Table of Contents",
   "title_sidebar": "Contents",
   "toc_cell": false,
   "toc_position": {},
   "toc_section_display": true,
   "toc_window_display": false
  },
  "varInspector": {
   "cols": {
    "lenName": 16,
    "lenType": 16,
    "lenVar": 40
   },
   "kernels_config": {
    "python": {
     "delete_cmd_postfix": "",
     "delete_cmd_prefix": "del ",
     "library": "var_list.py",
     "varRefreshCmd": "print(var_dic_list())"
    },
    "r": {
     "delete_cmd_postfix": ") ",
     "delete_cmd_prefix": "rm(",
     "library": "var_list.r",
     "varRefreshCmd": "cat(var_dic_list()) "
    }
   },
   "types_to_exclude": [
    "module",
    "function",
    "builtin_function_or_method",
    "instance",
    "_Feature"
   ],
   "window_display": false
  }
 },
 "nbformat": 4,
 "nbformat_minor": 4
}
