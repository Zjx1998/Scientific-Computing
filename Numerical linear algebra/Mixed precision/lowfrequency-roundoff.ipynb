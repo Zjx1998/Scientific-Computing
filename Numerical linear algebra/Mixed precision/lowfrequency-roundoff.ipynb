{
 "cells": [
  {
   "cell_type": "code",
   "execution_count": 1,
   "metadata": {
    "ExecuteTime": {
     "end_time": "2021-01-21T14:19:35.051201Z",
     "start_time": "2021-01-21T14:19:34.552011Z"
    }
   },
   "outputs": [],
   "source": [
    "import numpy as np\n",
    "import numpy.linalg as alg\n",
    "import numpy.random as r\n",
    "import scipy.linalg as alg\n",
    "import scipy.sparse as spa\n",
    "import functools\n",
    "from matplotlib import pyplot as plt \n",
    "from matplotlib import cm\n",
    "from time import time\n",
    "from scipy.linalg import lu as lu\n",
    "from scipy.linalg import solve_triangular as st\n",
    "from scipy.linalg import solve_triangular as ss\n",
    "from scipy.sparse.linalg import spsolve as sps\n",
    "from sys import getsizeof\n",
    "from time import time"
   ]
  },
  {
   "cell_type": "markdown",
   "metadata": {},
   "source": [
    "# Low-precision round-off\n",
    "We considering the following problems. Given a sequence of numbers $\\{ \\alpha_n \\}_{n = 1}^N$ in $[0, 1]$, i.e. $\\alpha_n \\in [0, 1]$. Introduce an algorithm of complexity $O(n)$ to return a sequence $\\{ \\beta_n \\}_{n = 1}^N$ of $0, 1$, i.e. $\\beta \\in \\{0, 1\\}$, s.t. $\\alpha - \\beta$ has small Fourier coefficient, i.e. at least the first several coefficients should be of order $O(N^{-1})$.\n",
    "\n",
    "Using CLT, it is easy to show that if one randomly chooses the sequence $\\beta$, then all the coefficients should be of order $O(N^{-\\frac{1}{2}})$. However, it is also reasonable to imagine that this coefficients are of order $O(N^{-1})$.\n",
    "## Brute-force algorithm\n",
    "In this algorithm, we directly run through the first several Fourier coefficients and modify the round-off sequence in order to make this coefficients small. The point here is that it is hard to balance between different coefficient, namely, when modifying larger Fourier coefficients, it is hard to make the smaller coefficients remain small."
   ]
  },
  {
   "cell_type": "code",
   "execution_count": 36,
   "metadata": {
    "ExecuteTime": {
     "end_time": "2021-01-21T15:37:49.352471Z",
     "start_time": "2021-01-21T15:37:47.942928Z"
    }
   },
   "outputs": [],
   "source": [
    "num      = 7\n",
    "cof_num  = 10\n",
    "MyFFT    = np.zeros([num, cof_num])\n",
    "n_array  = np.power(2, np.linspace(7, 7 + num - 1, num))\n",
    "for j in range(num):\n",
    "    for l in range(100):\n",
    "        n    = int(n_array[j])\n",
    "        a    = r.rand(n)\n",
    "\n",
    "        # randomly initialized the e sequence\n",
    "        e    = np.zeros(n)\n",
    "        e[0:n:2] = 1\n",
    "\n",
    "        # modified the first Fourier coeff\n",
    "        f1   = np.sum(a)               # First Fourier coeff\n",
    "        sgn  = np.sign(suma - n / 2) \n",
    "        k    = int(np.floor(suma - n / 2) * sgn)\n",
    "        if k != 0:\n",
    "            w    = int(np.floor(n / k / 2) * 2)\n",
    "            bias = 0\n",
    "            if sgn == 1:\n",
    "                bias = 1\n",
    "            for i in range(k):\n",
    "                e[i * w + bias] = 1 - e[i * w + bias]\n",
    "\n",
    "        # modified the second Fourier coeff\n",
    "        f2   = (a - e).T @ np.exp(2j * np.pi * np.linspace(0, (n - 1)/n, n))\n",
    "        f2arg = np.log(f2).imag\n",
    "        f2abs = np.abs(f2)\n",
    "        theta = int(np.floor(f2arg * n / 2 / np.pi))\n",
    "        t     = 0\n",
    "        m     = 0\n",
    "        n2    = int(n/2)\n",
    "        theta1 = theta\n",
    "        theta2 = np.mod(theta + n2, n)\n",
    "        while t < f2abs:\n",
    "            if e[np.mod(theta1 + m, n)] == 1:\n",
    "                e[np.mod(theta1 + m, n)] = 0\n",
    "                t += 1\n",
    "            if e[np.mod(theta1 - m, n)] == 1:\n",
    "                e[np.mod(theta1 - m, n)] = 0\n",
    "                t += 1\n",
    "            if e[np.mod(theta2 + m, n)] == 0:\n",
    "                e[np.mod(theta2 + m, n)] = 1\n",
    "                t += 1\n",
    "            if e[np.mod(theta2 - m, n)] == 0:\n",
    "                e[np.mod(theta2 - m, n)] = 1\n",
    "                t += 1\n",
    "            m += 1\n",
    "        \n",
    "        MyFFT[j, :] += np.abs(np.fft.fft(a - e)[:cof_num])\n",
    "        \n",
    "MyFFT /= 1000"
   ]
  },
  {
   "cell_type": "code",
   "execution_count": 37,
   "metadata": {
    "ExecuteTime": {
     "end_time": "2021-01-21T15:37:51.111119Z",
     "start_time": "2021-01-21T15:37:50.717061Z"
    }
   },
   "outputs": [
    {
     "data": {
      "image/png": "[encoded data removed]",
      "text/plain": [
       "<Figure size 432x288 with 1 Axes>"
      ]
     },
     "metadata": {
      "needs_background": "light"
     },
     "output_type": "display_data"
    }
   ],
   "source": [
    "for i in range(cof_num):\n",
    "    plt.plot(n_array, MyFFT[:, i], label = str(i) + ' fourier coefficient')\n",
    "plt.legend(loc = 'upper left', borderaxespad = 0.)\n",
    "plt.semilogy()\n",
    "plt.semilogx()\n",
    "plt.show()"
   ]
  }
 ],
 "metadata": {
  "kernelspec": {
   "display_name": "Python 3",
   "language": "python",
   "name": "python3"
  },
  "latex_envs": {
   "LaTeX_envs_menu_present": true,
   "autoclose": false,
   "autocomplete": true,
   "bibliofile": "biblio.bib",
   "cite_by": "apalike",
   "current_citInitial": 1,
   "eqLabelWithNumbers": true,
   "eqNumInitial": 1,
   "hotkeys": {
    "equation": "Ctrl-E",
    "itemize": "Ctrl-I"
   },
   "labels_anchors": false,
   "latex_user_defs": false,
   "report_style_numbering": false,
   "user_envs_cfg": false
  },
  "toc": {
   "base_numbering": 1,
   "nav_menu": {},
   "number_sections": true,
   "sideBar": true,
   "skip_h1_title": false,
   "title_cell": "Table of Contents",
   "title_sidebar": "Contents",
   "toc_cell": false,
   "toc_position": {},
   "toc_section_display": true,
   "toc_window_display": false
  },
  "varInspector": {
   "cols": {
    "lenName": 16,
    "lenType": 16,
    "lenVar": 40
   },
   "kernels_config": {
    "python": {
     "delete_cmd_postfix": "",
     "delete_cmd_prefix": "del ",
     "library": "var_list.py",
     "varRefreshCmd": "print(var_dic_list())"
    },
    "r": {
     "delete_cmd_postfix": ") ",
     "delete_cmd_prefix": "rm(",
     "library": "var_list.r",
     "varRefreshCmd": "cat(var_dic_list()) "
    }
   },
   "types_to_exclude": [
    "module",
    "function",
    "builtin_function_or_method",
    "instance",
    "_Feature"
   ],
   "window_display": false
  }
 },
 "nbformat": 4,
 "nbformat_minor": 4
}
