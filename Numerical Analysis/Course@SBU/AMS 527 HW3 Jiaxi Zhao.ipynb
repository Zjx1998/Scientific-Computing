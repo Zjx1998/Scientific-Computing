{
 "cells": [
  {
   "cell_type": "markdown",
   "metadata": {},
   "source": [
    "# AMS 527 Homework 3 \n",
    "**submitted by Jiaxi Zhao on 20th Mar, 2021**"
   ]
  },
  {
   "cell_type": "code",
   "execution_count": 1,
   "metadata": {
    "ExecuteTime": {
     "end_time": "2021-03-22T00:20:02.122922Z",
     "start_time": "2021-03-22T00:20:00.856971Z"
    }
   },
   "outputs": [],
   "source": [
    "import numpy as np\n",
    "import numpy.linalg as alg\n",
    "import numpy.random as r\n",
    "import sympy as sp\n",
    "from scipy.linalg import solve as ss\n",
    "from scipy import integrate\n",
    "from sympy import diff\n",
    "from matplotlib import pyplot as plt \n",
    "from time import time\n",
    "%matplotlib inline"
   ]
  },
  {
   "cell_type": "markdown",
   "metadata": {},
   "source": [
    "## Numerical integration in 1D\n",
    "In this section, we use numerical integration to calculate the following integral as an approximation for $\\pi$\n",
    "\\begin{equation}\n",
    "    \\int_0^1 \\frac{4}{1 + x^2} = \\pi.\n",
    "\\end{equation}\n",
    "### Midpoint, trapezoid and Simpson composite quadrature rules\n",
    "We firstly use the above three methods to calculate the integration.\n",
    "\\begin{itemize}\n",
    "    \\item Midpoint rule: $M(f) = (b - a)f\\left( \\frac{a + b}{2} \\right).$\n",
    "    \\item Trapezoid rule: $T(f) = \\frac{b - a}{2}(f\\left( a \\right) + f(b)).$\n",
    "    \\item Simpson's rule: $S(f) = \\frac{b - a}{6}\\left(f\\left( a \\right) + f(b) + 4f\\left( \\frac{a + b}{2} \\right) \\right) = \\frac{2}{3}M(f) + \\frac{1}{3}S(f).$\n",
    "    \\item Romberg's rule: $R(f) = T(f, h) - \\frac{4}{3}\\left( T(f, h) - T\\left(f, \\frac{h}{2}\\right) \\right) = \\frac{4}{3}T\\left(f, \\frac{h}{2}\\right) - \\frac{1}{3}T\\left(f, h\\right).$\n",
    "\\end{itemize}"
   ]
  },
  {
   "cell_type": "code",
   "execution_count": 2,
   "metadata": {
    "ExecuteTime": {
     "end_time": "2021-03-22T00:20:02.154041Z",
     "start_time": "2021-03-22T00:20:02.141423Z"
    }
   },
   "outputs": [
    {
     "name": "stdout",
     "output_type": "stream",
     "text": [
      "3.1416009869231245\n",
      "3.1415759869231294\n",
      "3.1415926535897927\n",
      "3.1415926535897913\n",
      "3.14999951416654\n",
      "(3.1415926535897936, 3.4878684980086326e-14)\n"
     ]
    }
   ],
   "source": [
    "def f(x):\n",
    "    return 4 / (1 + (x ** 2))\n",
    "    #return x ** 7    If we change the integrand to this function, then the Simpson's and Romberg's rule will\n",
    "    # only of order fourth, the same as the theoretic analysis\n",
    "\n",
    "def Midpoint(N, f, left, right):\n",
    "    d = right - left\n",
    "    x = np.linspace(left + d / (2 * N), right - d / (2 * N), N)\n",
    "    fx = f(x)\n",
    "    return np.sum(fx) / N\n",
    "\n",
    "def Trapezoid(N, f, left, right):\n",
    "    x = np.linspace(left, right, N + 1)\n",
    "    fx = f(x)\n",
    "    return (np.sum(fx) - (fx[0] + fx[N]) / 2) / N\n",
    "\n",
    "def Simpson(N, f, left, right):\n",
    "    return 2 / 3 * Midpoint(N, f, left, right) + 1 / 3 * Trapezoid(N, f, left, right)\n",
    "\n",
    "def Romberg(N, f, left, right):\n",
    "    return 4 / 3 * Trapezoid(N * 2, f, left, right) - 1 / 3 * Trapezoid(N, f, left, right)\n",
    "\n",
    "def MC(N, f, left, right):\n",
    "    x = r.rand(N) * (right - left) + left\n",
    "    return np.sum(f(x)) / N\n",
    "\n",
    "def PyRoutine(N, f, left, right):\n",
    "    return integrate.quad(f, left, right)\n",
    "\n",
    "print(Midpoint(100, f, 0, 1))\n",
    "print(Trapezoid(100, f, 0, 1))\n",
    "print(Simpson(100, f, 0, 1))\n",
    "print(Romberg(100, f, 0, 1))\n",
    "print(MC(100, f, 0, 1))\n",
    "print(PyRoutine(100, f, 0, 1))"
   ]
  },
  {
   "cell_type": "code",
   "execution_count": 3,
   "metadata": {
    "ExecuteTime": {
     "end_time": "2021-03-22T00:20:02.363897Z",
     "start_time": "2021-03-22T00:20:02.171672Z"
    }
   },
   "outputs": [
    {
     "name": "stdout",
     "output_type": "stream",
     "text": [
      "[-1.99999752 -1.99999872 -6.0067972  -6.00679547 -1.37657265]\n"
     ]
    },
    {
     "data": {
      "image/png": "[encoded data removed]",
      "text/plain": [
       "<Figure size 432x288 with 1 Axes>"
      ]
     },
     "metadata": {
      "needs_background": "light"
     },
     "output_type": "display_data"
    }
   ],
   "source": [
    "method_array = []\n",
    "method_array.append(Midpoint)\n",
    "method_array.append(Trapezoid)\n",
    "method_array.append(Simpson)\n",
    "method_array.append(Romberg)\n",
    "method_array.append(MC)\n",
    "method_name = ['Midpoint rule', 'Trapezoid rule', 'Simpson rule','Romberg rule','Monte Carlo']\n",
    "def Convergence(f, method_array, method_name, left, right, start, k):\n",
    "\n",
    "    method_num = len(method_name)\n",
    "    error = np.zeros([method_num, k])\n",
    "    ans = np.pi\n",
    "    for i in range(start, start + k):\n",
    "        N = np.power(2, i)\n",
    "        for j in range(method_num):\n",
    "            error[j, i - start] = np.abs(method_array[j](N, f, left, right) - ans)  \n",
    "\n",
    "    for i in range(method_num):\n",
    "        plt.plot(np.linspace(start, start + k - 1, k), np.log2(error[i,:]), label = method_name[i])\n",
    "        \n",
    "    x       = np.linspace(start, start + k - 1, k)\n",
    "    A       = np.vstack([x, np.ones(len(x))]).T\n",
    "    m = np.zeros(method_num)\n",
    "    for i in range(method_num):\n",
    "        m[i], c   = np.linalg.lstsq(A, np.log2(error[i,:]), rcond = -1)[0]\n",
    "    print(m)\n",
    "    plt.xlabel('log2 of quadrature pts')\n",
    "    plt.ylabel('log10 of error')\n",
    "    plt.legend()\n",
    "    plt.show()\n",
    "    \n",
    "Convergence(f, method_array, method_name, 0, 1, 3, 4)"
   ]
  },
  {
   "cell_type": "code",
   "execution_count": 4,
   "metadata": {
    "ExecuteTime": {
     "end_time": "2021-03-22T00:20:02.526541Z",
     "start_time": "2021-03-22T00:20:02.379473Z"
    }
   },
   "outputs": [
    {
     "name": "stdout",
     "output_type": "stream",
     "text": [
      "24*(16*x**4/(x**2 + 1)**2 - 12*x**2/(x**2 + 1) + 1)/(x**2 + 1)**3\n"
     ]
    },
    {
     "ename": "TypeError",
     "evalue": "Midpoint() missing 2 required positional arguments: 'left' and 'right'",
     "output_type": "error",
     "traceback": [
      "\u001b[0;31m---------------------------------------------------------------------------\u001b[0m",
      "\u001b[0;31mTypeError\u001b[0m                                 Traceback (most recent call last)",
      "\u001b[0;32m<ipython-input-4-700f1c96de6f>\u001b[0m in \u001b[0;36m<module>\u001b[0;34m\u001b[0m\n\u001b[1;32m      6\u001b[0m     \u001b[0;32mreturn\u001b[0m \u001b[0;36m24\u001b[0m\u001b[0;34m*\u001b[0m\u001b[0;34m(\u001b[0m\u001b[0;36m16\u001b[0m\u001b[0;34m*\u001b[0m\u001b[0mx\u001b[0m\u001b[0;34m**\u001b[0m\u001b[0;36m4\u001b[0m\u001b[0;34m/\u001b[0m\u001b[0;34m(\u001b[0m\u001b[0mx\u001b[0m\u001b[0;34m**\u001b[0m\u001b[0;36m2\u001b[0m \u001b[0;34m+\u001b[0m \u001b[0;36m1\u001b[0m\u001b[0;34m)\u001b[0m\u001b[0;34m**\u001b[0m\u001b[0;36m2\u001b[0m \u001b[0;34m-\u001b[0m \u001b[0;36m12\u001b[0m\u001b[0;34m*\u001b[0m\u001b[0mx\u001b[0m\u001b[0;34m**\u001b[0m\u001b[0;36m2\u001b[0m\u001b[0;34m/\u001b[0m\u001b[0;34m(\u001b[0m\u001b[0mx\u001b[0m\u001b[0;34m**\u001b[0m\u001b[0;36m2\u001b[0m \u001b[0;34m+\u001b[0m \u001b[0;36m1\u001b[0m\u001b[0;34m)\u001b[0m \u001b[0;34m+\u001b[0m \u001b[0;36m1\u001b[0m\u001b[0;34m)\u001b[0m\u001b[0;34m/\u001b[0m\u001b[0;34m(\u001b[0m\u001b[0mx\u001b[0m\u001b[0;34m**\u001b[0m\u001b[0;36m2\u001b[0m \u001b[0;34m+\u001b[0m \u001b[0;36m1\u001b[0m\u001b[0;34m)\u001b[0m\u001b[0;34m**\u001b[0m\u001b[0;36m3\u001b[0m\u001b[0;34m\u001b[0m\u001b[0;34m\u001b[0m\u001b[0m\n\u001b[1;32m      7\u001b[0m \u001b[0;34m\u001b[0m\u001b[0m\n\u001b[0;32m----> 8\u001b[0;31m \u001b[0mprint\u001b[0m\u001b[0;34m(\u001b[0m\u001b[0mMidpoint\u001b[0m\u001b[0;34m(\u001b[0m\u001b[0;36m100\u001b[0m\u001b[0;34m,\u001b[0m \u001b[0md4f\u001b[0m\u001b[0;34m)\u001b[0m\u001b[0;34m)\u001b[0m\u001b[0;34m\u001b[0m\u001b[0;34m\u001b[0m\u001b[0m\n\u001b[0m",
      "\u001b[0;31mTypeError\u001b[0m: Midpoint() missing 2 required positional arguments: 'left' and 'right'"
     ]
    }
   ],
   "source": [
    "x = sp.symbols(\"x\")\n",
    "u = 1 / (1 + x * x)\n",
    "d4u = diff(u, x, 4)\n",
    "print(d4u)\n",
    "def d4f(x):\n",
    "    return 24*(16*x**4/(x**2 + 1)**2 - 12*x**2/(x**2 + 1) + 1)/(x**2 + 1)**3\n",
    "\n",
    "print(Midpoint(100, d4f))"
   ]
  },
  {
   "cell_type": "markdown",
   "metadata": {},
   "source": [
    "\\begin{remark}\n",
    "    As is indicated by theoretic analysis, both Midpoint and Trapezoid rules have second order convergence rates. However, Simpson's rule have sixth order convergence rate, even better than the theoretically fourth-order rate. Via analysis, we find that Simpson's rule cannot cancel out the fourth-order term in the integration, so what's the reason for this? In above block, we calculate the integration of the fourth order derivative of the function $f(x)$ and it turns out to be near $0$. Hence it indeed cancel out the fourth order terms and provide a speed up to sixth order convergence rate.\n",
    "\\end{remark}\n",
    "\\begin{remark}\n",
    "    Meanwhile, when N is taken to be 128, the absolute error of Simpson's rule is close to the machine precision and further increasing N will not improve it performance since the error is dominated by rounding error.\n",
    "\\end{remark}"
   ]
  },
  {
   "cell_type": "markdown",
   "metadata": {},
   "source": [
    "### Computational complexity comparison with built-in routine in SciPy\n",
    "In this section, we compare the computational complexity of our implemented quadrature rule with the built-in routine in SciPy. We use the time consumption as a criterion. "
   ]
  },
  {
   "cell_type": "code",
   "execution_count": null,
   "metadata": {
    "ExecuteTime": {
     "end_time": "2021-03-22T00:20:02.530390Z",
     "start_time": "2021-03-22T00:20:01.839Z"
    }
   },
   "outputs": [],
   "source": [
    "start = time()\n",
    "print(Midpoint(10000000, f, 0, 1) - np.pi)\n",
    "print('Time for Midpoint rule:', time() - start)\n",
    "\n",
    "start = time()\n",
    "print(Trapezoid(10000000, f, 0, 1) - np.pi)\n",
    "print('Time for Trapezoid rule:', time() - start)\n",
    "\n",
    "start = time()\n",
    "print(Simpson(100, f, 0, 1) - np.pi)\n",
    "print('Time for Simpson rule:', time() - start)\n",
    "\n",
    "start = time()\n",
    "print(Romberg(100, f, 0, 1) - np.pi)\n",
    "print('Time for Romberg rule:', time() - start)\n",
    "\n",
    "start = time()\n",
    "print(MC(100000000, f, 0, 1) - np.pi)\n",
    "print('Time for Monte Carlo method:', time() - start)\n",
    "\n",
    "start = time()\n",
    "y, err = integrate.quad(f, 0, 1)\n",
    "print(y - np.pi)\n",
    "print('Time for SciPy routine:', time() - start)"
   ]
  },
  {
   "cell_type": "markdown",
   "metadata": {},
   "source": [
    "\\begin{remark}\n",
    "    From above numerical experiments, we find that the Simpson's rule and Romberg's rule performs even competitively comparing with SciPy routine, which makes me very very happy!\n",
    "\\end{remark}"
   ]
  },
  {
   "cell_type": "markdown",
   "metadata": {},
   "source": [
    "## Numerical integration in 2D\n",
    "In this section, we use numerical integration to calculate the following integral as an approximation\n",
    "\\begin{equation}\n",
    "    \\int\\int_{\\Omega} e^{-xy}dxdy.\n",
    "\\end{equation}\n",
    "We have two choices of integration domain, i.e.\n",
    "\\begin{equation}\n",
    "    \\Omega_1 = [0, 1] \\times [0, 1], \\  \\ \\ \\  \\Omega_2 = \\mathbb{D} = \\{ (x, y) \\ | \\ x^2 + y^2 \\leq 1, x, y \\geq 0 \\}.\n",
    "\\end{equation}\n",
    "### Midpoint, trapezoid and Simpson composite quadrature rules\n",
    "We firstly use the above three methods to calculate the integration.\n",
    "\\begin{itemize}\n",
    "    \\item Midpoint rule: $M(f) = (b - a)f\\left( \\frac{a + b}{2} \\right).$\n",
    "    \\item Trapezoid rule: $T(f) = \\frac{b - a}{2}(f\\left( a \\right) + f(b)).$\n",
    "    \\item Simpson's rule: $S(f) = \\frac{b - a}{6}\\left(f\\left( a \\right) + f(b) + 4f\\left( \\frac{a + b}{2} \\right) \\right) = \\frac{2}{3}M(f) + \\frac{1}{3}S(f).$\n",
    "\\end{itemize}\n",
    "### Square domain\n",
    "We first calculate the integral on the square domain, which is more regular."
   ]
  },
  {
   "cell_type": "code",
   "execution_count": 5,
   "metadata": {
    "ExecuteTime": {
     "end_time": "2021-03-22T00:20:04.047926Z",
     "start_time": "2021-03-22T00:20:04.029466Z"
    }
   },
   "outputs": [
    {
     "name": "stdout",
     "output_type": "stream",
     "text": [
      "-1.964636684781418e-06\n",
      "3.929380369749325e-06\n",
      "3.566669182220039e-11\n",
      "-5.167088978907941e-12\n",
      "-0.006048131798783385\n",
      "(0.7965995992970532, 1.1090185172125453e-14)\n"
     ]
    }
   ],
   "source": [
    "def f(x, y):\n",
    "    return np.exp(- x * y)\n",
    "\n",
    "def Midpoint(N, f, xleft, xright, yleft, yright):\n",
    "    dx = xright - xleft\n",
    "    dy = yright - yleft\n",
    "    x = np.linspace(xleft + dx / (2 * N), xright - dx / (2 * N), N).reshape(1, N)\n",
    "    y = np.linspace(yleft + dy / (2 * N), yright - dy / (2 * N), N).reshape(N, 1)\n",
    "    fxy = f(x, y)\n",
    "    return np.sum(fxy) / N / N\n",
    "\n",
    "def Trapezoid(N, f, xleft, xright, yleft, yright):\n",
    "    x = np.linspace(xleft, xright, N + 1).reshape(1, N + 1)\n",
    "    y = np.linspace(yleft, yright, N + 1).reshape(N + 1, 1)\n",
    "    fxy = f(x, y)\n",
    "    return (np.sum(fxy) - np.sum(fxy[0, :]) / 2  \\\n",
    "                        - np.sum(fxy[N, :]) / 2  \\\n",
    "                        - np.sum(fxy[:, 0]) / 2  \\\n",
    "                        - np.sum(fxy[:, N]) / 2 \\\n",
    "                        + (fxy[0, 0] + fxy[N, 0] + fxy[N, N] + fxy[0, N]) / 4) / N / N\n",
    "\n",
    "def Simpson(N, f, xleft, xright, yleft, yright):\n",
    "    return 2 / 3 * Midpoint(N, f, xleft, xright, yleft, yright) \\\n",
    "         + 1 / 3 * Trapezoid(N, f, xleft, xright, yleft, yright)\n",
    "\n",
    "def Romberg(N, f, xleft, xright, yleft, yright):\n",
    "    #return  4 / 3 * Trapezoid(N * 2, f, xleft, xright, yleft, yright) \\\n",
    "    #      - 1 / 3 * Trapezoid(N, f, xleft, xright, yleft, yright)\n",
    "    return  4 / 3 * Midpoint(N * 2, f, xleft, xright, yleft, yright) \\\n",
    "          - 1 / 3 * Midpoint(N, f, xleft, xright, yleft, yright)\n",
    "\n",
    "def MC(N, f, xleft, xright, yleft, yright):\n",
    "    x = (r.rand(N) * (xright - xleft) + xleft).reshape(N)\n",
    "    y = (r.rand(N) * (yright - yleft) + yleft).reshape(N)\n",
    "    return np.sum(f(x, y)) / N\n",
    "\n",
    "def PyRoutine(N, f, xleft, xright, yleft, yright):\n",
    "    return integrate.dblquad(f, xleft, xright, yleft, yright)\n",
    "\n",
    "ans, err = PyRoutine(100, f, 0, 1, 0, 1)\n",
    "print(Midpoint(100, f, 0, 1, 0, 1) - ans)\n",
    "print(Trapezoid(100, f, 0, 1, 0, 1) - ans)\n",
    "print(Simpson(100, f, 0, 1, 0, 1) - ans)\n",
    "print(Romberg(100, f, 0, 1, 0, 1) - ans)\n",
    "print(MC(100, f, 0, 1, 0, 1) - ans)\n",
    "print(PyRoutine(100, f, 0, 1, 0, 1))"
   ]
  },
  {
   "cell_type": "markdown",
   "metadata": {},
   "source": [
    "The convergence rate is again shown in the following block."
   ]
  },
  {
   "cell_type": "code",
   "execution_count": 6,
   "metadata": {
    "ExecuteTime": {
     "end_time": "2021-03-22T00:20:05.369305Z",
     "start_time": "2021-03-22T00:20:05.204276Z"
    }
   },
   "outputs": [
    {
     "name": "stdout",
     "output_type": "stream",
     "text": [
      "[-1.99925591 -2.0011802  -3.99934636 -3.99899052 -0.85214377]\n"
     ]
    },
    {
     "data": {
      "image/png": "[encoded data removed]",
      "text/plain": [
       "<Figure size 432x288 with 1 Axes>"
      ]
     },
     "metadata": {
      "needs_background": "light"
     },
     "output_type": "display_data"
    }
   ],
   "source": [
    "method_array = []\n",
    "method_array.append(Midpoint)\n",
    "method_array.append(Trapezoid)\n",
    "method_array.append(Simpson)\n",
    "method_array.append(Romberg)\n",
    "method_array.append(MC)\n",
    "method_name = ['Midpoint rule', 'Trapezoid rule', 'Simpson rule','Romberg rule','Monte Carlo']\n",
    "def Convergence(f, method_array, method_name, xleft, xright, yleft, yright, start, k):\n",
    "\n",
    "    method_num = len(method_name)\n",
    "    error = np.zeros([method_num, k])\n",
    "    ans, err = PyRoutine(100, f, 0, 1, 0, 1)\n",
    "    for i in range(start, start + k):\n",
    "        N = np.power(2, i)\n",
    "        for j in range(method_num):\n",
    "            error[j, i - start] = np.abs(method_array[j](N, f, xleft, xright, yleft, yright) - ans)  \n",
    "\n",
    "    for i in range(method_num):\n",
    "        plt.plot(np.linspace(start, start + k - 1, k), np.log2(error[i,:]), label = method_name[i])\n",
    "        \n",
    "    x       = np.linspace(start, start + k - 1, k)\n",
    "    A       = np.vstack([x, np.ones(len(x))]).T\n",
    "    m = np.zeros(method_num)\n",
    "    for i in range(method_num):\n",
    "        m[i], c   = np.linalg.lstsq(A, np.log2(error[i,:]), rcond = -1)[0]\n",
    "    print(m)\n",
    "    plt.xlabel('log2 of quadrature pts')\n",
    "    plt.ylabel('log10 of error')\n",
    "    plt.legend()\n",
    "    plt.show()\n",
    "    \n",
    "Convergence(f, method_array, method_name, 0, 1, 0, 1, 3, 4)"
   ]
  },
  {
   "cell_type": "markdown",
   "metadata": {},
   "source": [
    "\\begin{remark}\n",
    "    We should be careful when draw conclusion from this figure. Although the error and convergence rate of quadrature rules and Monte Carlo method are plotted together, one should remember that given $N$, Monte Carlo uses $N$ samples while quadrature rules use $N^2$ grid pts to calculate the integral, which is different from the 1D case. In fact, you can sample from x and y direction $N$ samples respectively and use this to obtain $N^2$ samples, but they are definitely not independent, which may cause the Monte Carlo method to have different rate.\n",
    "\\end{remark}"
   ]
  },
  {
   "cell_type": "markdown",
   "metadata": {},
   "source": [
    "### Sector domain\n",
    "We next calculate the integral on the irregular sector domain, we have to pay special attention to the grid pts."
   ]
  },
  {
   "cell_type": "code",
   "execution_count": 21,
   "metadata": {
    "ExecuteTime": {
     "end_time": "2021-03-22T00:38:25.316255Z",
     "start_time": "2021-03-22T00:38:08.911251Z"
    }
   },
   "outputs": [
    {
     "name": "stdout",
     "output_type": "stream",
     "text": [
      "-6.767885840530674e-06\n",
      "-2.220674525821309e-06\n",
      "-0.000649449196897911\n"
     ]
    }
   ],
   "source": [
    "def Midpoint(N, f):\n",
    "    x = np.zeros(N * N)\n",
    "    y = np.zeros(N * N)\n",
    "    index = 0\n",
    "    for i in range(N):\n",
    "        ynum = int(round(np.sqrt(1 - ((i + 0.5) / N) ** 2) * N + 0.5)) # number of pts in this layer\n",
    "        y[index : index + ynum] = np.linspace(0.5 / N, (ynum - 0.5) / N, ynum)\n",
    "        x[index : index + ynum] = (i + 0.5) / N\n",
    "        index += ynum\n",
    "    x = x[:index].reshape(index)\n",
    "    y = y[:index].reshape(index)\n",
    "    return np.sum(f(x, y)) / index * np.pi / 4\n",
    "\n",
    "def Romberg(N, f):\n",
    "    return  4 / 3 * Midpoint(N * 2, f) \\\n",
    "          - 1 / 3 * Midpoint(N, f)\n",
    "\n",
    "def MC(N, f):\n",
    "    # be careful to scale with the \n",
    "    R = np.sqrt(r.rand(N))\n",
    "    theta = r.rand(N) * np.pi / 2\n",
    "    x = R * np.cos(theta) \n",
    "    y = R * np.sin(theta)\n",
    "    return np.sum(f(x, y)) / N * np.pi / 4\n",
    "\n",
    "def PyRoutine(N, f, xleft, xright, yleft, yright):\n",
    "    return integrate.dblquad(f, xleft, xright, yleft, yright)\n",
    "\n",
    "ans, err = PyRoutine(100, f, 0, 1, 0, lambda x: np.sqrt(1 - x**2))\n",
    "print(Midpoint(10000, f) - ans)\n",
    "print(Romberg(10000, f) - ans)\n",
    "print(MC(100000, f) - ans)"
   ]
  },
  {
   "cell_type": "code",
   "execution_count": 27,
   "metadata": {
    "ExecuteTime": {
     "end_time": "2021-03-22T00:41:03.376214Z",
     "start_time": "2021-03-22T00:41:02.044752Z"
    }
   },
   "outputs": [
    {
     "name": "stdout",
     "output_type": "stream",
     "text": [
      "[-0.99035919 -1.01044583 -0.91711791]\n"
     ]
    },
    {
     "data": {
      "image/png": "[encoded data removed]",
      "text/plain": [
       "<Figure size 432x288 with 1 Axes>"
      ]
     },
     "metadata": {
      "needs_background": "light"
     },
     "output_type": "display_data"
    }
   ],
   "source": [
    "method_array = []\n",
    "method_array.append(Midpoint)\n",
    "method_array.append(Romberg)\n",
    "method_array.append(MC)\n",
    "method_name = ['Midpoint rule','Romberg rule','Monte Carlo']\n",
    "def Convergence(f, method_array, method_name, start, k):\n",
    "\n",
    "    method_num = len(method_name)\n",
    "    error = np.zeros([method_num, k])\n",
    "    ans, err = PyRoutine(100, f, 0, 1, 0, lambda x: np.sqrt(1 - x**2))\n",
    "    for i in range(start, start + k):\n",
    "        N = np.power(2, i)\n",
    "        for j in range(method_num):\n",
    "            error[j, i - start] = np.abs(method_array[j](N, f) - ans)  \n",
    "\n",
    "    for i in range(method_num):\n",
    "        plt.plot(np.linspace(start, start + k - 1, k), np.log2(error[i,:]), label = method_name[i])\n",
    "        \n",
    "    x       = np.linspace(start, start + k - 1, k)\n",
    "    A       = np.vstack([x, np.ones(len(x))]).T\n",
    "    m = np.zeros(method_num)\n",
    "    for i in range(method_num):\n",
    "        m[i], c   = np.linalg.lstsq(A, np.log2(error[i,:]), rcond = -1)[0]\n",
    "    print(m)\n",
    "    plt.xlabel('log2 of quadrature pts')\n",
    "    plt.ylabel('log10 of error')\n",
    "    plt.legend()\n",
    "    plt.show()\n",
    "    \n",
    "Convergence(f, method_array, method_name, 3, 9)"
   ]
  },
  {
   "cell_type": "markdown",
   "metadata": {},
   "source": [
    "\\begin{remark}\n",
    "    For this irregular domain, it can be observed that all the quadrature rules only have order 1, due to the approximation error at curved boundary.\n",
    "\\end{remark}"
   ]
  },
  {
   "cell_type": "markdown",
   "metadata": {},
   "source": [
    "#### SciPy routines\n",
    "In this subsection, we consider to use SciPy routines to calculate this integral in the sector, we use three different routines. The first is to directly integrate on the sector domain. The second is to use transformation of integration variables into polar coordinate. While the last is based on reduction to 1D integral. We discuss them in details in the following.\n",
    "##### Direct integral\n",
    "We have checked that the integral domain is correct."
   ]
  },
  {
   "cell_type": "code",
   "execution_count": 8,
   "metadata": {
    "ExecuteTime": {
     "end_time": "2021-03-22T00:20:45.960189Z",
     "start_time": "2021-03-22T00:20:45.946266Z"
    }
   },
   "outputs": [
    {
     "name": "stdout",
     "output_type": "stream",
     "text": [
      "(0.6751670568500855, 2.6688429244359213e-11)\n"
     ]
    }
   ],
   "source": [
    "print(integrate.dblquad(f, 0, 1, 0, lambda x: np.sqrt(1 - x**2)))"
   ]
  },
  {
   "cell_type": "markdown",
   "metadata": {},
   "source": [
    "##### Integration on polar coordinate\n",
    "\\begin{equation}\n",
    "    \\begin{aligned}\n",
    "        & \\ \\int_0^1\\int_0^{\\sqrt{1 - x^2}} e^{-xy}dxdy   \\\\\n",
    "        = & \\ \\int_0^1\\int_0^{\\frac{\\pi}{2}} Re^{-R^2\\cos\\theta\\sin\\theta}dRd\\theta\n",
    "    \\end{aligned}\n",
    "\\end{equation}"
   ]
  },
  {
   "cell_type": "code",
   "execution_count": 9,
   "metadata": {
    "ExecuteTime": {
     "end_time": "2021-03-22T00:20:59.045622Z",
     "start_time": "2021-03-22T00:20:59.038636Z"
    }
   },
   "outputs": [
    {
     "name": "stdout",
     "output_type": "stream",
     "text": [
      "(0.6751670568500828, 1.2828052410510628e-14)\n"
     ]
    }
   ],
   "source": [
    "def g(theta, R):\n",
    "    return R * np.exp(-R**2 * np.cos(theta) * np.sin(theta))\n",
    "print(integrate.dblquad(g, 0, 1, 0, np.pi/2))"
   ]
  },
  {
   "cell_type": "markdown",
   "metadata": {},
   "source": [
    "##### Reduction to 1D integration\n",
    "\\begin{equation}\n",
    "    \\begin{aligned}\n",
    "        & \\ \\int_0^1\\int_0^{\\sqrt{1 - x^2}} e^{-xy}dxdy   \\\\\n",
    "        = & \\ \\int_0^1 \\frac{1 - e^{-x\\sqrt{1 - x^2}}}{x}dxdy\n",
    "    \\end{aligned}\n",
    "\\end{equation}"
   ]
  },
  {
   "cell_type": "code",
   "execution_count": 10,
   "metadata": {
    "ExecuteTime": {
     "end_time": "2021-03-22T00:21:11.965830Z",
     "start_time": "2021-03-22T00:21:11.961226Z"
    }
   },
   "outputs": [
    {
     "name": "stdout",
     "output_type": "stream",
     "text": [
      "(0.6751670568500855, 2.66878741328469e-11)\n"
     ]
    }
   ],
   "source": [
    "def l(x):\n",
    "    return (1 - np.exp(-x * np.sqrt(1 - x**2))) / x\n",
    "print(integrate.quad(l, 0, 1))"
   ]
  },
  {
   "cell_type": "markdown",
   "metadata": {},
   "source": [
    "\\begin{equation}\n",
    "    \\begin{aligned}\n",
    "        & \\ \\int_0^{\\frac{\\pi}{2}}\\int_0^1 Re^{-R^2\\cos\\theta\\sin\\theta}dRd\\theta   \\\\\n",
    "        = & \\ \\int_0^{\\frac{\\pi}{2}} \\frac{1 - e^{-\\cos\\theta\\sin\\theta}d\\theta}{2\\sin\\theta\\cos\\theta}\n",
    "    \\end{aligned}\n",
    "\\end{equation}"
   ]
  },
  {
   "cell_type": "code",
   "execution_count": 61,
   "metadata": {
    "ExecuteTime": {
     "end_time": "2021-03-21T09:21:41.779091Z",
     "start_time": "2021-03-21T09:21:41.774934Z"
    }
   },
   "outputs": [
    {
     "name": "stdout",
     "output_type": "stream",
     "text": [
      "(0.6751670568500827, 7.495860119833639e-15)\n"
     ]
    }
   ],
   "source": [
    "def q(theta):\n",
    "    return (1 - np.exp(-np.cos(theta) * np.sin(theta)))/np.sin(theta * 2)\n",
    "print(integrate.quad(q, 0, np.pi/2))"
   ]
  }
 ],
 "metadata": {
  "author": "mes ",
  "kernelspec": {
   "display_name": "Python 3",
   "language": "python",
   "name": "python3"
  },
  "latex_envs": {
   "LaTeX_envs_menu_present": true,
   "autoclose": false,
   "autocomplete": true,
   "bibliofile": "biblio.bib",
   "cite_by": "apalike",
   "current_citInitial": 1,
   "eqLabelWithNumbers": true,
   "eqNumInitial": 1,
   "hotkeys": {
    "equation": "Ctrl-E",
    "itemize": "Ctrl-I"
   },
   "labels_anchors": false,
   "latex_user_defs": false,
   "report_style_numbering": false,
   "user_envs_cfg": false
  },
  "toc": {
   "base_numbering": 1,
   "nav_menu": {},
   "number_sections": true,
   "sideBar": true,
   "skip_h1_title": false,
   "title_cell": "Table of Contents",
   "title_sidebar": "Contents",
   "toc_cell": false,
   "toc_position": {},
   "toc_section_display": true,
   "toc_window_display": false
  },
  "varInspector": {
   "cols": {
    "lenName": 16,
    "lenType": 16,
    "lenVar": 40
   },
   "kernels_config": {
    "python": {
     "delete_cmd_postfix": "",
     "delete_cmd_prefix": "del ",
     "library": "var_list.py",
     "varRefreshCmd": "print(var_dic_list())"
    },
    "r": {
     "delete_cmd_postfix": ") ",
     "delete_cmd_prefix": "rm(",
     "library": "var_list.r",
     "varRefreshCmd": "cat(var_dic_list()) "
    }
   },
   "types_to_exclude": [
    "module",
    "function",
    "builtin_function_or_method",
    "instance",
    "_Feature"
   ],
   "window_display": false
  }
 },
 "nbformat": 4,
 "nbformat_minor": 4
}
