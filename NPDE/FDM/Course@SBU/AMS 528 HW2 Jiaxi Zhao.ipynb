{
 "cells": [
  {
   "cell_type": "markdown",
   "metadata": {},
   "source": [
    "# AMS 528 Homework 2\n",
    "**submitted by Jiaxi Zhao on 15th March, 2021**"
   ]
  },
  {
   "cell_type": "code",
   "execution_count": 35,
   "metadata": {
    "ExecuteTime": {
     "end_time": "2021-04-18T15:05:29.195160Z",
     "start_time": "2021-04-18T15:05:29.189323Z"
    }
   },
   "outputs": [],
   "source": [
    "import numpy as np\n",
    "import numpy.linalg as alg\n",
    "import sympy as sp\n",
    "from scipy.linalg import solve as ss\n",
    "from sympy import *\n",
    "from matplotlib import pyplot as plt \n",
    "%matplotlib inline"
   ]
  },
  {
   "cell_type": "markdown",
   "metadata": {},
   "source": [
    "## Diffusion equation with Dirichlet BC\n",
    "Consider the following IBVP for the diffusion equation\n",
    "\\begin{equation}\n",
    "    \\begin{aligned}\n",
    "        v_t & = v_{xx},    \\\\\n",
    "        v(0; t) & = v(1; t) = 0     \\\\ \n",
    "        v(x; 0) & = \\sin(3\\pi x).\n",
    "    \\end{aligned}\n",
    "\\end{equation}\n",
    "The exact solution is\n",
    "\\begin{equation}\n",
    "    v(x; t) = \\exp(-9\\pi^2 t) \\sin(3\\pi x).\n",
    "\\end{equation}\n",
    "\n",
    "### BTCS scheme\n",
    "We use the BTCS scheme and obtain numerical solutions at time $t = 0.02$ using the number of numerical points N and time steps as in the tables below. The numerical scheme is given by \n",
    "\\begin{equation}\n",
    "    \\frac{v_k^{n + 1} - v_k^n}{\\Delta t} = \\frac{v_{k + 1}^{n + 1} + v_{k - 1}^{n + 1} - 2v_k^{n + 1}}{( \\Delta x )^2},\n",
    "\\end{equation}\n",
    "which can be written in the following matrix form to solve a linear system\n",
    "\\begin{equation}\n",
    "    \\mathbf{Q}\\mathbf{v}^{n + 1} = \\mathbf{v}^n,\n",
    "\\end{equation}\n",
    "with\n",
    "\\begin{equation}\n",
    "    \\mathbf{Q} = \\begin{pmatrix}\n",
    "        1 + 2R & -R & 0 & \\cdots & 0 & 0       \\\\\n",
    "            -R & 1 + 2R & -R & \\cdots & 0 & 0  \\\\\n",
    "                0 & -R & 1 + 2R & \\cdots & 0 & 0 \\\\\n",
    "                \\vdots & \\vdots & \\vdots & \\ddots & \\vdots \\\\\n",
    "                0 & 0 & 0 & \\cdots & 1 + 2R & -R  \\\\\n",
    "                0 & 0 & 0 & \\cdots & -R & 1 + 2R\n",
    "        \\end{pmatrix}, \\quad R = \\frac{\\Delta t}{\\Delta x^2}.\n",
    "\\end{equation}"
   ]
  },
  {
   "cell_type": "code",
   "execution_count": 42,
   "metadata": {
    "ExecuteTime": {
     "end_time": "2021-04-18T15:05:58.958390Z",
     "start_time": "2021-04-18T15:05:58.947985Z"
    }
   },
   "outputs": [],
   "source": [
    "def BTCS(N = 64, Plot = False):\n",
    "    \n",
    "    x = np.linspace(0, 1, N + 1)\n",
    "    v = np.sin(3 * np.pi * x)\n",
    "    dx = 1 / N\n",
    "    dt = (dx ** 2) / 4\n",
    "    T  = 1 / 8\n",
    "    R = dt / (dx ** 2)\n",
    "    Q1 = np.zeros([N - 1, N - 1])\n",
    "    for i in range(N - 1):\n",
    "        Q1[i, i] = 1 + 2 * R\n",
    "        if i != 0:\n",
    "            Q1[i, i - 1] = -R\n",
    "        if i != N - 2:\n",
    "            Q1[i, i + 1] = -R\n",
    "\n",
    "    for t in range(int(T / dt)):\n",
    "        tmp = ss(Q1, v[1:N])\n",
    "        v[1:N] = tmp\n",
    "\n",
    "    v_truth = np.exp(-9 * np.pi ** 2 * T) * np.sin(3 * np.pi * x)\n",
    "    error_inf = np.max(v_truth - v)\n",
    "    error_l2 = alg.norm(v_truth - v) * np.sqrt(dx)\n",
    "\n",
    "    if Plot:\n",
    "        fig = plt.figure()\n",
    "        ax  = fig.add_subplot(111)\n",
    "        ax.plot(x, v, label = 'Numerical solution')\n",
    "        ax.plot(x, v_truth, label = 'Exact solution')\n",
    "        ax.set_xlabel('x')\n",
    "        ax.set_ylabel('v')\n",
    "        ax.set_title('Numerical solution v.s. Exact solution',fontsize=12)\n",
    "        ax.legend()\n",
    "        plt.show()\n",
    "        \n",
    "    return [error_inf, error_l2]"
   ]
  },
  {
   "cell_type": "code",
   "execution_count": 23,
   "metadata": {
    "ExecuteTime": {
     "end_time": "2021-04-18T14:40:03.020385Z",
     "start_time": "2021-04-18T14:39:53.056121Z"
    }
   },
   "outputs": [
    {
     "name": "stdout",
     "output_type": "stream",
     "text": [
      "[0.0004017848078126029, 0.00028410476218179443, 2.256257873054726, 2.3562578730549606]\n",
      "[9.811618539392469e-05, 6.937862003596124e-05, 2.033859963937118, 2.033859963940924]\n",
      "[2.4384291485679468e-05, 1.7242297863912418e-05, 2.0085390914475942, 2.008539091446041]\n",
      "[6.087039547368958e-06, 4.3041869410820455e-06, 2.0021394096600704, 2.0021394097281195]\n"
     ]
    }
   ],
   "source": [
    "prev_dx = 1\n",
    "prev_err_l2 = 1\n",
    "prev_err_inf = 1\n",
    "\n",
    "for i in range(5, 9):\n",
    "    N = np.power(2, i)\n",
    "    [error_l2, error_inf] = BTCS(N)\n",
    "    dx = 1 / N\n",
    "    R_l2 = np.log(error_l2/prev_err_l2) / np.log(dx/prev_dx)\n",
    "    R_inf = np.log(error_inf/prev_err_inf) / np.log(dx/prev_dx)\n",
    "    \n",
    "    \n",
    "    #print('<td>',format(error_l2,'.2e'),'</td>')\n",
    "    #print('<td>',format(R_l2,'.2e'),'</td>')\n",
    "    #print('<td>',format(error_inf,'.2e'),'</td>')\n",
    "    #print('<td>',format(R_inf,'.2e'),'</td>')\n",
    "    print([error_l2, error_inf, R_l2, R_inf])\n",
    "    prev_dx = dx\n",
    "    prev_err_l2 = error_l2\n",
    "    prev_err_inf = error_inf"
   ]
  },
  {
   "cell_type": "markdown",
   "metadata": {},
   "source": [
    "<table border=\"1\" align=\"center\"><tbody>\n",
    "    <tr>\n",
    "        <th>N</th>\n",
    "        <th>$l_{2, \\Delta x}$ error</th>\n",
    "        <th>Convergence order</th>\n",
    "        <th>$l_{\\infty}$ error</th>\n",
    "        <th>Convergence order</th>\n",
    "    </tr>\n",
    "    <tr>\n",
    "        <td>$32$</td>\n",
    "        <td> 4.02e-04 </td>\n",
    "        <td> NA </td>\n",
    "        <td> 2.84e-04 </td>\n",
    "        <td> NA </td>\n",
    "    </tr>\n",
    "    <tr>\n",
    "        <td>$64$</td>\n",
    "        <td> 9.81e-05 </td>\n",
    "        <td> 2.03e+00 </td>\n",
    "        <td> 6.94e-05 </td>\n",
    "        <td> 2.03e+00 </td>\n",
    "    </tr>\n",
    "    <tr>\n",
    "        <td>$128$</td>\n",
    "        <td> 2.44e-05 </td>\n",
    "        <td> 2.01e+00 </td>\n",
    "        <td> 1.72e-05 </td>\n",
    "        <td> 2.01e+00 </td>\n",
    "    </tr>\n",
    "    <tr>\n",
    "        <td>$256$</td>\n",
    "        <td> 6.09e-06 </td>\n",
    "        <td> 2.00e+00 </td>\n",
    "        <td> 4.30e-06 </td>\n",
    "        <td> 2.00e+00 </td>\n",
    "    </tr>\n",
    "</table> "
   ]
  },
  {
   "cell_type": "markdown",
   "metadata": {},
   "source": [
    "### Crank-Nicolson scheme"
   ]
  },
  {
   "cell_type": "code",
   "execution_count": 25,
   "metadata": {
    "ExecuteTime": {
     "end_time": "2021-04-18T14:45:03.572629Z",
     "start_time": "2021-04-18T14:45:03.561459Z"
    }
   },
   "outputs": [],
   "source": [
    "def CN(N = 64, Plot = False):\n",
    "    \n",
    "    x = np.linspace(0, 1, N + 1)\n",
    "    v = np.sin(3 * np.pi * x)\n",
    "    dx = 1 / N\n",
    "    dt = (dx ** 2) / 4\n",
    "    T  = 1 / 16\n",
    "    R = dt / (dx ** 2) / 2\n",
    "    Q1 = np.zeros([N - 1, N - 1])\n",
    "    Q2 = np.zeros([N - 1, N - 1])\n",
    "    for i in range(N - 1):\n",
    "        Q1[i, i] = 1 + 2 * R\n",
    "        Q2[i, i] = 1 - 2 * R\n",
    "        if i != 0:\n",
    "            Q1[i, i - 1] = -R\n",
    "            Q2[i, i - 1] = R\n",
    "        if i != N - 2:\n",
    "            Q1[i, i + 1] = -R\n",
    "            Q2[i, i + 1] = R\n",
    "    for t in range(int(T / dt)):\n",
    "        tmp = ss(Q1, Q2 @ v[1:N])\n",
    "        v[1:N] = tmp\n",
    "    v_truth = np.exp(-9 * np.pi ** 2 * T) * np.sin(3 * np.pi * x)\n",
    "    error_inf = np.max(v_truth - v)\n",
    "    error_l2 = alg.norm(v_truth - v) * np.sqrt(dx)\n",
    "\n",
    "    if Plot:\n",
    "        fig = plt.figure()\n",
    "        ax  = fig.add_subplot(111)\n",
    "        ax.plot(x, v, label = 'Numerical solution')\n",
    "        ax.plot(x, v_truth, label = 'Exact solution')\n",
    "        ax.set_xlabel('x')\n",
    "        ax.set_ylabel('v')\n",
    "        ax.set_title('Numerical solution v.s. Exact solution',fontsize=12)\n",
    "        ax.legend()\n",
    "        plt.show()\n",
    "    \n",
    "    return [error_inf, error_l2]"
   ]
  },
  {
   "cell_type": "code",
   "execution_count": 27,
   "metadata": {
    "ExecuteTime": {
     "end_time": "2021-04-18T15:03:05.278508Z",
     "start_time": "2021-04-18T15:02:53.886278Z"
    }
   },
   "outputs": [
    {
     "name": "stdout",
     "output_type": "stream",
     "text": [
      "[0.0001575906123139634, 0.00011143339061823702, 2.5263061567320957, 2.62630615673289]\n",
      "[3.9052334089665144e-05, 2.7614170255776346e-05, 2.0127009124743362, 2.0127009124802107]\n",
      "[9.741599975609302e-06, 6.888351402195895e-06, 2.003178130932132, 2.003178130956665]\n",
      "[2.4340588019484966e-06, 1.7211394844665083e-06, 2.000794721183901, 2.0007947213155544]\n"
     ]
    }
   ],
   "source": [
    "prev_dx = 1\n",
    "prev_err_l2 = 1\n",
    "prev_err_inf = 1\n",
    "\n",
    "for i in range(5, 9):\n",
    "    N = np.power(2, i)\n",
    "    [error_l2, error_inf] = CN(N)\n",
    "    dx = 1 / N\n",
    "    R_l2 = np.log(error_l2/prev_err_l2) / np.log(dx/prev_dx)\n",
    "    R_inf = np.log(error_inf/prev_err_inf) / np.log(dx/prev_dx)\n",
    "    \n",
    "    \n",
    "    #print('<td>',format(error_l2,'.2e'),'</td>')\n",
    "    #print('<td>',format(R_l2,'.2e'),'</td>')\n",
    "    #print('<td>',format(error_inf,'.2e'),'</td>')\n",
    "    #print('<td>',format(R_inf,'.2e'),'</td>')\n",
    "    print([error_l2, error_inf, R_l2, R_inf])\n",
    "    prev_dx = dx\n",
    "    prev_err_l2 = error_l2\n",
    "    prev_err_inf = error_inf"
   ]
  },
  {
   "cell_type": "markdown",
   "metadata": {
    "ExecuteTime": {
     "end_time": "2021-03-01T14:18:47.147432Z",
     "start_time": "2021-03-01T14:18:47.139114Z"
    }
   },
   "source": [
    "<table border=\"1\" align=\"center\"><tbody>\n",
    "    <tr>\n",
    "        <th>N</th>\n",
    "        <th>$l_{2, \\Delta x}$ error</th>\n",
    "        <th>Convergence order</th>\n",
    "        <th>$l_{\\infty}$ error</th>\n",
    "        <th>Convergence order</th>\n",
    "    </tr>\n",
    "    <tr>\n",
    "        <td>$32$</td>\n",
    "        <td> 1.58e-04 </td>\n",
    "        <td> NA </td>\n",
    "        <td> 1.11e-04 </td>\n",
    "        <td> NA </td>\n",
    "    </tr>\n",
    "    <tr>\n",
    "        <td>$64$</td>\n",
    "        <td> 3.91e-05 </td>\n",
    "        <td> 2.01e+00 </td>\n",
    "        <td> 2.76e-05 </td>\n",
    "        <td> 2.01e+00 </td>\n",
    "    </tr>\n",
    "    <tr>\n",
    "        <td>$128$</td>\n",
    "        <td> 9.74e-06 </td>\n",
    "        <td> 2.00e+00 </td>\n",
    "        <td> 6.89e-06 </td>\n",
    "        <td> 2.00e+00 </td>\n",
    "    </tr>\n",
    "    <tr>\n",
    "        <td>$256$</td>\n",
    "        <td> 2.43e-06 </td>\n",
    "        <td> 2.00e+00 </td>\n",
    "        <td> 1.72e-06 </td>\n",
    "        <td> 2.00e+00 </td>\n",
    "    </tr>\n",
    "</table> "
   ]
  }
 ],
 "metadata": {
  "kernelspec": {
   "display_name": "Python 3",
   "language": "python",
   "name": "python3"
  },
  "language_info": {
   "codemirror_mode": {
    "name": "ipython",
    "version": 3
   },
   "file_extension": ".py",
   "mimetype": "text/x-python",
   "name": "python",
   "nbconvert_exporter": "python",
   "pygments_lexer": "ipython3",
   "version": "3.6.10"
  },
  "latex_envs": {
   "LaTeX_envs_menu_present": true,
   "autoclose": false,
   "autocomplete": true,
   "bibliofile": "biblio.bib",
   "cite_by": "apalike",
   "current_citInitial": 1,
   "eqLabelWithNumbers": true,
   "eqNumInitial": 1,
   "hotkeys": {
    "equation": "Ctrl-E",
    "itemize": "Ctrl-I"
   },
   "labels_anchors": false,
   "latex_user_defs": false,
   "report_style_numbering": false,
   "user_envs_cfg": false
  },
  "toc": {
   "base_numbering": 1,
   "nav_menu": {},
   "number_sections": true,
   "sideBar": true,
   "skip_h1_title": false,
   "title_cell": "Table of Contents",
   "title_sidebar": "Contents",
   "toc_cell": false,
   "toc_position": {},
   "toc_section_display": true,
   "toc_window_display": false
  },
  "varInspector": {
   "cols": {
    "lenName": 16,
    "lenType": 16,
    "lenVar": 40
   },
   "kernels_config": {
    "python": {
     "delete_cmd_postfix": "",
     "delete_cmd_prefix": "del ",
     "library": "var_list.py",
     "varRefreshCmd": "print(var_dic_list())"
    },
    "r": {
     "delete_cmd_postfix": ") ",
     "delete_cmd_prefix": "rm(",
     "library": "var_list.r",
     "varRefreshCmd": "cat(var_dic_list()) "
    }
   },
   "types_to_exclude": [
    "module",
    "function",
    "builtin_function_or_method",
    "instance",
    "_Feature"
   ],
   "window_display": false
  }
 },
 "nbformat": 4,
 "nbformat_minor": 4
}
