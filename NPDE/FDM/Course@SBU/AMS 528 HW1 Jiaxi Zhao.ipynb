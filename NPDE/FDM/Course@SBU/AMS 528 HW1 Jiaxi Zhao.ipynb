{
 "cells": [
  {
   "cell_type": "markdown",
   "metadata": {},
   "source": [
    "# AMS 528 Homework 1 \n",
    "**submitted by Jiaxi Zhao on 28th Feb, 2021**"
   ]
  },
  {
   "cell_type": "code",
   "execution_count": 3,
   "metadata": {
    "ExecuteTime": {
     "end_time": "2021-03-19T14:11:12.772485Z",
     "start_time": "2021-03-19T14:11:12.767074Z"
    }
   },
   "outputs": [],
   "source": [
    "import numpy as np\n",
    "import numpy.linalg as alg\n",
    "import sympy as sp\n",
    "from sympy import *\n",
    "from matplotlib import pyplot as plt \n",
    "%matplotlib inline"
   ]
  },
  {
   "cell_type": "markdown",
   "metadata": {},
   "source": [
    "## Diffusion equation with Dirichlet BC\n",
    "Consider the following IBVP for the diffusion equation\n",
    "\\begin{equation}\n",
    "    \\begin{aligned}\n",
    "        v_t & = v_{xx},    \\\\\n",
    "        v(0; t) & = v(1; t) = 0     \\\\ \n",
    "        v(x; 0) & = \\sin(3\\pi x).\n",
    "    \\end{aligned}\n",
    "\\end{equation}\n",
    "The exact solution is\n",
    "\\begin{equation}\n",
    "    v(x; t) = \\exp(-9\\pi^2 t) \\sin(3\\pi x).\n",
    "\\end{equation}\n",
    "We use the FTCS scheme and obtain numerical solutions at time $t = 0.02$ using the number of numerical points N and time steps as in the tables below. The numerical scheme is given by \n",
    "\\begin{equation}\n",
    "    \\frac{v_k^{n + 1} - v_k^n}{\\Delta t} = \\frac{v_{k + 1}^n + v_{k - 1}^n - 2v_k^n}{( \\Delta x )^2},\n",
    "\\end{equation}\n",
    "which can be also written in the following explicit form\n",
    "\\begin{equation}\n",
    "    v_k^{n + 1} = v_k^n + \\frac{\\Delta t}{( \\Delta x )^2}(v_{k + 1}^n + v_{k - 1}^n - 2v_k^n).\n",
    "\\end{equation}"
   ]
  },
  {
   "cell_type": "code",
   "execution_count": 15,
   "metadata": {
    "ExecuteTime": {
     "end_time": "2021-03-19T14:33:04.024869Z",
     "start_time": "2021-03-19T14:33:03.893610Z"
    }
   },
   "outputs": [
    {
     "data": {
      "image/png": "[encoded data removed]",
      "text/plain": [
       "<Figure size 432x288 with 1 Axes>"
      ]
     },
     "metadata": {
      "needs_background": "light"
     },
     "output_type": "display_data"
    },
    {
     "data": {
      "text/plain": [
       "[4.025680751351688e-05, 5.693172316354085e-05]"
      ]
     },
     "execution_count": 15,
     "metadata": {},
     "output_type": "execute_result"
    }
   ],
   "source": [
    "def Diffusion_FTCS(N, R = 2, plot = False):\n",
    "    x = np.linspace(0, 1, N + 1)\n",
    "    v = np.sin(2 * np.pi * x)\n",
    "    dx = 1 / N\n",
    "    dt = dx ** 2 / R\n",
    "    T  = 1 / 8\n",
    "    for t in range(int(T / dt)):\n",
    "        v[1:N] += dt / dx ** 2 * (v[:N - 1] + v[2:] - 2 * v[1:N])\n",
    "    v_truth = np.exp(-4 * (np.pi ** 2) * T) * np.sin(2 * np.pi * x)\n",
    "    error_inf = np.max(v_truth - v)\n",
    "    error_l2 = alg.norm(v_truth - v) * np.sqrt(dx)\n",
    "\n",
    "    if plot:\n",
    "        fig = plt.figure()\n",
    "        ax  = fig.add_subplot(111)\n",
    "        ax.plot(x, v, label = 'Numerical solution')\n",
    "        ax.plot(x, v_truth, label = 'Exact solution')\n",
    "        ax.set_xlabel('x')\n",
    "        ax.set_ylabel('v')\n",
    "        ax.set_title('Numerical solution v.s. Exact solution',fontsize=12)\n",
    "        plt.show()\n",
    "    return [error_l2, error_inf]\n",
    "    \n",
    "Diffusion_FTCS(64, plot = True)"
   ]
  },
  {
   "cell_type": "code",
   "execution_count": 16,
   "metadata": {
    "ExecuteTime": {
     "end_time": "2021-03-19T14:33:13.828657Z",
     "start_time": "2021-03-19T14:33:10.972566Z"
    }
   },
   "outputs": [
    {
     "name": "stdout",
     "output_type": "stream",
     "text": [
      "[0.000160347392160823, 0.0002267654566850989, 2.521302297822818, 2.4213022978226832]\n",
      "[4.025680751351688e-05, 5.693172316354085e-05, 1.9938962186034295, 1.9938962186020197]\n",
      "[1.0074756515008875e-05, 1.424785730123456e-05, 1.9984877943515553, 1.998487794343278]\n",
      "[2.5193477376582628e-06, 3.5628957390145682e-06, 1.9996228007721093, 1.9996228007483428]\n",
      "[6.298780809507753e-07, 8.907821247936681e-07, 1.9999057534394107, 1.9999057533576665]\n",
      "[1.574720916050572e-07, 2.2269916768666298e-07, 1.9999764419892196, 1.9999764418230754]\n"
     ]
    }
   ],
   "source": [
    "prev_dx = 1\n",
    "prev_err_l2 = 1\n",
    "prev_err_inf = 1\n",
    "\n",
    "for i in range(5,11):\n",
    "    N = np.power(2, i)\n",
    "    [error_l2, error_inf] = Diffusion_FTCS(N)\n",
    "    dx = 1 / N\n",
    "    R_l2 = np.log(error_l2/prev_err_l2) / np.log(dx/prev_dx)\n",
    "    R_inf = np.log(error_inf/prev_err_inf) / np.log(dx/prev_dx)\n",
    "    \n",
    "    \n",
    "    #print('<td>',format(error_l2,'.2e'),'</td>')\n",
    "    #print('<td>',format(R_l2,'.2e'),'</td>')\n",
    "    #print('<td>',format(error_inf,'.2e'),'</td>')\n",
    "    #print('<td>',format(R_inf,'.2e'),'</td>')\n",
    "    print([error_l2, error_inf, R_l2, R_inf])\n",
    "    prev_dx = dx\n",
    "    prev_err_l2 = error_l2\n",
    "    prev_err_inf = error_inf"
   ]
  },
  {
   "cell_type": "markdown",
   "metadata": {
    "ExecuteTime": {
     "end_time": "2021-03-01T14:18:47.147432Z",
     "start_time": "2021-03-01T14:18:47.139114Z"
    }
   },
   "source": [
    "<table border=\"1\" align=\"center\"><tbody>\n",
    "    <tr>\n",
    "        <th>N</th>\n",
    "        <th>$l_{2, \\Delta x}$ error</th>\n",
    "        <th>Convergence order</th>\n",
    "        <th>$l_{\\infty}$ error</th>\n",
    "        <th>Convergence order</th>\n",
    "    </tr>\n",
    "    <tr>\n",
    "        <td>$32$</td>\n",
    "        <td> 1.61e-06 </td>\n",
    "        <td> NA </td>\n",
    "        <td> 2.27e-06 </td>\n",
    "        <td> NA </td>\n",
    "    </tr>\n",
    "    <tr>\n",
    "        <td>$64$</td>\n",
    "        <td> 4.21e-07 </td>\n",
    "        <td> 1.94e+00 </td>\n",
    "        <td> 5.95e-07 </td>\n",
    "        <td> 1.93e+00 </td>\n",
    "    </tr>\n",
    "    <tr>\n",
    "        <td>$128$</td>\n",
    "        <td> 1.06e-07 </td>\n",
    "        <td> 1.98e+00 </td>\n",
    "        <td> 1.51e-07 </td>\n",
    "        <td> 1.98e+00 </td>\n",
    "    </tr>\n",
    "    <tr>\n",
    "        <td>$256$</td>\n",
    "        <td> 2.67e-08 </td>\n",
    "        <td> 2.00e+00 </td>\n",
    "        <td> 3.77e-08 </td>\n",
    "        <td> 2.00e+00 </td>\n",
    "    </tr>\n",
    "    <tr>\n",
    "        <td>$512$</td>\n",
    "        <td> 6.68e-09 </td>\n",
    "        <td> 2.00e+00 </td>\n",
    "        <td> 9.44e-09 </td>\n",
    "        <td> 2.00e+00 </td>\n",
    "    </tr>\n",
    "    <tr>\n",
    "        <td>$1024$</td>\n",
    "        <td> 1.67e-09 </td>\n",
    "        <td> 2.00e+00 </td>\n",
    "        <td> 2.36e-09 </td>\n",
    "        <td> 2.00e+00 </td>\n",
    "    </tr>\n",
    "</table> "
   ]
  },
  {
   "cell_type": "code",
   "execution_count": 18,
   "metadata": {
    "ExecuteTime": {
     "end_time": "2021-03-19T14:33:34.755980Z",
     "start_time": "2021-03-19T14:33:26.376817Z"
    }
   },
   "outputs": [
    {
     "name": "stdout",
     "output_type": "stream",
     "text": [
      "[6.931403924545951e-08, 9.802485440978809e-08, 4.756455433155507, 4.65645543302011]\n",
      "[4.32092908660048e-09, 6.110716578577868e-09, 4.0037341340339925, 4.003734120013014]\n",
      "[2.6988375617863314e-10, 3.8167334657362995e-10, 4.0009315028826355, 4.00093122153107]\n",
      "[1.6865063422576996e-11, 2.3850901288702264e-11, 4.000228497317057, 4.000222752639323]\n",
      "[1.054073101918757e-12, 1.4907831913379965e-12, 3.9999909146235493, 3.999901421558771]\n",
      "[6.584149955687369e-14, 9.323011113115953e-14, 4.0008339199086445, 3.9991306609024586]\n"
     ]
    }
   ],
   "source": [
    "prev_dx = 1\n",
    "prev_err_l2 = 1\n",
    "prev_err_inf = 1\n",
    "\n",
    "for i in range(5,11):\n",
    "    N = np.power(2, i)\n",
    "    [error_l2, error_inf] = Diffusion_FTCS(N, R = 6)\n",
    "    dx = 1 / N\n",
    "    R_l2 = np.log(error_l2/prev_err_l2) / np.log(dx/prev_dx)\n",
    "    R_inf = np.log(error_inf/prev_err_inf) / np.log(dx/prev_dx)\n",
    "    \n",
    "    \n",
    "    #print('<td>',format(error_l2,'.2e'),'</td>')\n",
    "    #print('<td>',format(R_l2,'.2e'),'</td>')\n",
    "    #print('<td>',format(error_inf,'.2e'),'</td>')\n",
    "    #print('<td>',format(R_inf,'.2e'),'</td>')\n",
    "    print([error_l2, error_inf, R_l2, R_inf])\n",
    "    prev_dx = dx\n",
    "    prev_err_l2 = error_l2\n",
    "    prev_err_inf = error_inf"
   ]
  },
  {
   "cell_type": "markdown",
   "metadata": {},
   "source": [
    "<table border=\"1\" align=\"center\"><tbody>\n",
    "    <tr>\n",
    "        <th>N</th>\n",
    "        <th>$l_{2, \\Delta x}$ error</th>\n",
    "        <th>Convergence order</th>\n",
    "        <th>$l_{\\infty}$ error</th>\n",
    "        <th>Convergence order</th>\n",
    "    </tr>\n",
    "    <tr>\n",
    "        <td>$32$</td>\n",
    "        <td> 1.66e-09 </td>\n",
    "        <td> NA </td>\n",
    "        <td> 2.35e-09 </td>\n",
    "        <td> NA </td>\n",
    "    </tr>\n",
    "    <tr>\n",
    "        <td>$64$</td>\n",
    "        <td> 1.03e-10 </td>\n",
    "        <td> 4.01e+00 </td>\n",
    "        <td> 1.46e-10 </td>\n",
    "        <td> 4.01e+00 </td>\n",
    "    </tr>\n",
    "    <tr>\n",
    "        <td>$128$</td>\n",
    "        <td> 6.44e-12 </td>\n",
    "        <td> 4.00e+00 </td>\n",
    "        <td> 9.11e-12 </td>\n",
    "        <td> 4.00e+00 </td>\n",
    "    </tr>\n",
    "    <tr>\n",
    "        <td>$256$</td>\n",
    "        <td> 4.02e-13 </td>\n",
    "        <td> 4.00e+00 </td>\n",
    "        <td> 5.69e-13 </td>\n",
    "        <td> 4.00e+00 </td>\n",
    "    </tr>\n",
    "    <tr>\n",
    "        <td>$512$</td>\n",
    "        <td> 2.52e-14 </td>\n",
    "        <td> 4.00e+00 </td>\n",
    "        <td> 3.55e-14 </td>\n",
    "        <td> 4.00e+00 </td>\n",
    "    </tr>\n",
    "    <tr>\n",
    "        <td>$1024$</td>\n",
    "        <td> 1.63e-15 </td>\n",
    "        <td> 3.95e+00 </td>\n",
    "        <td> 2.14e-15 </td>\n",
    "        <td> 4.05e+00 </td>\n",
    "    </tr>\n",
    "</table>\n",
    "\n",
    "\\begin{remark}\n",
    "    One very concealed bug for the implementation is that the simulation time $T$ may not be a integar multiple of the time step $\\Delta t$. Meanwhile, we find that using $\\Delta t = \\frac{\\Delta x^2}{2}$ provides us with a second order scheme while using $\\Delta t = \\frac{\\Delta x^2}{2}$ provides us with a fourth order scheme. This order can be calculated as follows\n",
    "    \\begin{equation}\n",
    "        \\begin{aligned}\n",
    "                u_k^{n + 1} - u_k^n = & \\ u_t \\Delta t + \\frac{1}{2}u_{tt} \\Delta t^2 + O\\left(\\Delta t^3 \\right) \\\\\n",
    "                = & \\ \\frac{1}{6} u_t \\Delta x^2 + \\frac{1}{72}u_{tt} \\Delta t^2 + O\\left(\\Delta t^3\\right)    \\\\\n",
    "                \\frac{\\Delta t}{\\Delta x^2} \\left( u_{k + 1}^{n} + u_{k - 1}^n - 2u_k^n  \\right) = & \\ \\frac{1}{6} \\left( u_{k + 1}^{n} + u_{k - 1}^n - 2u_k^n  \\right)   \\\\\n",
    "                = & \\ \\frac{1}{6} u_{xx}  \\Delta x^2 + \\frac{1}{72} u_{xxxx}\\Delta x^4 + O\\left( \\Delta x^6\\right).\n",
    "        \\end{aligned}\n",
    "    \\end{equation}\n",
    "    Consequently, the $\\Delta t^2, \\Delta x^4$ terms also cancel out, with the smallest order terms given by $\\Delta t^3, \\Delta x^6$. The scheme is of order $4$.\n",
    "\\end{remark}\n"
   ]
  },
  {
   "cell_type": "markdown",
   "metadata": {},
   "source": [
    "## Diffusion equation with Neuman BC\n",
    "Now, consider the following IBVP for the diffusion equation\n",
    "\\begin{equation}\n",
    "    \\begin{aligned}\n",
    "        v_t & = v_{xx},    \\\\\n",
    "        v_x(0; t) & = 3\\pi \\exp(-9\\pi^2 t), \\quad \\ \\ \\ \\ v(1; t) = 0     \\\\ \n",
    "        v(x; 0) & = \\sin(3\\pi x).\n",
    "    \\end{aligned}\n",
    "\\end{equation}\n",
    "This time, the right BC is still Dirichlet while the left BC is given by Neuman.\n",
    "### A. Vertex grid, Centered 2nd order differencing\n",
    "For this version, the left boundary condition is given by\n",
    "\\begin{equation}\n",
    "    \\frac{u_1^n - u_{-1}^n}{2\\Delta x} = 0 \\Longrightarrow u_1^n = u_{-1}^n, u_0^{n + 1} = u_0^n + \\frac{\\Delta t}{\\Delta x^2} \\left( u_1^n + u_{-1}^n - 2u_0^n \\right) = u_0^n + \\frac{2\\Delta t}{\\Delta x^2} \\left( u_1^n - u_0^n \\right).\n",
    "\\end{equation}\n",
    "Notice that, for this version, the left boundary is at the point $u_0^n$."
   ]
  },
  {
   "cell_type": "code",
   "execution_count": 22,
   "metadata": {
    "ExecuteTime": {
     "end_time": "2021-03-01T14:39:45.657817Z",
     "start_time": "2021-03-01T14:39:45.531035Z"
    }
   },
   "outputs": [
    {
     "name": "stdout",
     "output_type": "stream",
     "text": [
      "[0.009746233722756223, 0.0028550388441597185]\n"
     ]
    },
    {
     "data": {
      "image/png": "[encoded data removed]",
      "text/plain": [
       "<Figure size 432x288 with 1 Axes>"
      ]
     },
     "metadata": {
      "needs_background": "light"
     },
     "output_type": "display_data"
    }
   ],
   "source": [
    "def Neuman_FTCS(N, BCchoice = 'A', plot = False):\n",
    "    x = np.linspace(0, 1, N + 1)\n",
    "    v = np.sin(3 * np.pi * x)\n",
    "    dx = 1 / N\n",
    "    dt = dx ** 2 / 2\n",
    "    T  = 1 / 8\n",
    "    for t in range(int(T / dt)):\n",
    "        v[1:N] += dt / dx ** 2 * (v[:N - 1] + v[2:] - 2 * v[1:N])\n",
    "        if BCchoice == 'A':\n",
    "            v[0] = v[1] - dx * 3 * np.pi * np.exp(- 9 * np.pi ** 2 * dt * (t + 1)) \n",
    "        elif BCchoice == 'B':\n",
    "            \n",
    "        else:\n",
    "                \n",
    "    v_truth = np.exp(-9 * np.pi ** 2 * T) * np.sin(3 * np.pi * x)\n",
    "    error_inf = np.max(v_truth - v)\n",
    "    error_l2 = alg.norm(v_truth - v) * np.sqrt(dx)\n",
    "\n",
    "    fig = plt.figure()\n",
    "    ax  = fig.add_subplot(111)\n",
    "    ax.plot(x, v, label = 'Numerical solution')\n",
    "    ax.plot(x, v_truth, label = 'Exact solution')\n",
    "    ax.set_xlabel('x')\n",
    "    ax.set_ylabel('v')\n",
    "    ax.set_title('Numerical solution v.s. Exact solution',fontsize=12)\n",
    "    plt.show()"
   ]
  },
  {
   "cell_type": "markdown",
   "metadata": {},
   "source": [
    "### B. Vertex grid, One-sided 1st order differencing"
   ]
  },
  {
   "cell_type": "code",
   "execution_count": 23,
   "metadata": {
    "ExecuteTime": {
     "end_time": "2021-03-01T14:40:37.613469Z",
     "start_time": "2021-03-01T14:40:37.483986Z"
    }
   },
   "outputs": [
    {
     "name": "stdout",
     "output_type": "stream",
     "text": [
      "[0.009222058107496213, 0.0026722258214861012]\n"
     ]
    },
    {
     "data": {
      "image/png": "[encoded data removed]",
      "text/plain": [
       "<Figure size 432x288 with 1 Axes>"
      ]
     },
     "metadata": {
      "needs_background": "light"
     },
     "output_type": "display_data"
    }
   ],
   "source": [
    "N = 40\n",
    "x = np.linspace(0, 1, N + 1)\n",
    "v = np.sin(3 * np.pi * x)\n",
    "dx = 1 / N\n",
    "dt = dx ** 2 / 2\n",
    "T  = 0.02\n",
    "for t in range(int(T / dt)):\n",
    "    v[1:N] += dt / dx ** 2 * (v[:N - 1] + v[2:] - 2 * v[1:N])\n",
    "    v[0] = (v[1] - dx * 3 * np.pi * np.exp(- 9 * np.pi ** 2 * dt * (t + 1))+ v[0]) / 2 \n",
    "v_truth = np.exp(-9 * np.pi ** 2 * T) * np.sin(3 * np.pi * x)\n",
    "error_inf = np.max(v_truth - v)\n",
    "error_l2 = alg.norm(v_truth - v) * np.sqrt(dx)\n",
    "print([error_inf, error_l2])\n",
    "\n",
    "fig = plt.figure()\n",
    "ax  = fig.add_subplot(111)\n",
    "ax.plot(x, v, label = 'Numerical solution')\n",
    "ax.plot(x, v_truth, label = 'Exact solution')\n",
    "ax.set_xlabel('x')\n",
    "ax.set_ylabel('v')\n",
    "ax.set_title('Numerical solution v.s. Exact solution',fontsize=12)\n",
    "plt.show()"
   ]
  }
 ],
 "metadata": {
  "kernelspec": {
   "display_name": "Python 3",
   "language": "python",
   "name": "python3"
  },
  "language_info": {
   "codemirror_mode": {
    "name": "ipython",
    "version": 3
   },
   "file_extension": ".py",
   "mimetype": "text/x-python",
   "name": "python",
   "nbconvert_exporter": "python",
   "pygments_lexer": "ipython3",
   "version": "3.6.10"
  },
  "latex_envs": {
   "LaTeX_envs_menu_present": true,
   "autoclose": false,
   "autocomplete": true,
   "bibliofile": "biblio.bib",
   "cite_by": "apalike",
   "current_citInitial": 1,
   "eqLabelWithNumbers": true,
   "eqNumInitial": 1,
   "hotkeys": {
    "equation": "Ctrl-E",
    "itemize": "Ctrl-I"
   },
   "labels_anchors": false,
   "latex_user_defs": false,
   "report_style_numbering": false,
   "user_envs_cfg": false
  },
  "toc": {
   "base_numbering": 1,
   "nav_menu": {},
   "number_sections": true,
   "sideBar": true,
   "skip_h1_title": false,
   "title_cell": "Table of Contents",
   "title_sidebar": "Contents",
   "toc_cell": false,
   "toc_position": {},
   "toc_section_display": true,
   "toc_window_display": false
  },
  "varInspector": {
   "cols": {
    "lenName": 16,
    "lenType": 16,
    "lenVar": 40
   },
   "kernels_config": {
    "python": {
     "delete_cmd_postfix": "",
     "delete_cmd_prefix": "del ",
     "library": "var_list.py",
     "varRefreshCmd": "print(var_dic_list())"
    },
    "r": {
     "delete_cmd_postfix": ") ",
     "delete_cmd_prefix": "rm(",
     "library": "var_list.r",
     "varRefreshCmd": "cat(var_dic_list()) "
    }
   },
   "types_to_exclude": [
    "module",
    "function",
    "builtin_function_or_method",
    "instance",
    "_Feature"
   ],
   "window_display": false
  }
 },
 "nbformat": 4,
 "nbformat_minor": 4
}
